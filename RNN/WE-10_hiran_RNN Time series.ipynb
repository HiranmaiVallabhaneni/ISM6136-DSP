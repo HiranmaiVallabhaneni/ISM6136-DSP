{
 "cells": [
  {
   "cell_type": "markdown",
   "metadata": {},
   "source": [
    "# Tutorial 2 - RNN Time Series\n",
    "\n",
    "In this notebook, we will predict the stock price of Netflix by comparing the 100 days stock price. "
   ]
  },
  {
   "cell_type": "code",
   "execution_count": 9,
   "metadata": {},
   "outputs": [],
   "source": [
    "import tensorflow as tf\n",
    "from tensorflow import keras\n",
    "from sklearn.metrics import mean_squared_error\n",
    "\n",
    "\n",
    "# Common imports\n",
    "import numpy as np\n",
    "import os\n",
    "\n",
    "# to make this notebook's output stable across runs\n",
    "np.random.seed(42)\n",
    "\n",
    "# To plot pretty figures\n",
    "%matplotlib inline\n",
    "import matplotlib as mpl\n",
    "import matplotlib.pyplot as plt\n",
    "mpl.rc('axes', labelsize=14)\n",
    "mpl.rc('xtick', labelsize=12)\n",
    "mpl.rc('ytick', labelsize=12)"
   ]
  },
  {
   "cell_type": "markdown",
   "metadata": {},
   "source": [
    "# Read the Dataset"
   ]
  },
  {
   "cell_type": "code",
   "execution_count": 10,
   "metadata": {},
   "outputs": [
    {
     "data": {
      "text/html": [
       "<div>\n",
       "<style scoped>\n",
       "    .dataframe tbody tr th:only-of-type {\n",
       "        vertical-align: middle;\n",
       "    }\n",
       "\n",
       "    .dataframe tbody tr th {\n",
       "        vertical-align: top;\n",
       "    }\n",
       "\n",
       "    .dataframe thead th {\n",
       "        text-align: right;\n",
       "    }\n",
       "</style>\n",
       "<table border=\"1\" class=\"dataframe\">\n",
       "  <thead>\n",
       "    <tr style=\"text-align: right;\">\n",
       "      <th></th>\n",
       "      <th>Date</th>\n",
       "      <th>Open</th>\n",
       "      <th>High</th>\n",
       "      <th>Low</th>\n",
       "      <th>Close</th>\n",
       "      <th>Adj Close</th>\n",
       "      <th>Volume</th>\n",
       "    </tr>\n",
       "  </thead>\n",
       "  <tbody>\n",
       "    <tr>\n",
       "      <th>0</th>\n",
       "      <td>11/25/2022</td>\n",
       "      <td>289.000000</td>\n",
       "      <td>289.209991</td>\n",
       "      <td>284.170013</td>\n",
       "      <td>285.540009</td>\n",
       "      <td>285.540009</td>\n",
       "      <td>3236000</td>\n",
       "    </tr>\n",
       "    <tr>\n",
       "      <th>1</th>\n",
       "      <td>11/28/2022</td>\n",
       "      <td>284.000000</td>\n",
       "      <td>289.549988</td>\n",
       "      <td>280.529999</td>\n",
       "      <td>281.170013</td>\n",
       "      <td>281.170013</td>\n",
       "      <td>4703400</td>\n",
       "    </tr>\n",
       "    <tr>\n",
       "      <th>2</th>\n",
       "      <td>11/29/2022</td>\n",
       "      <td>282.500000</td>\n",
       "      <td>282.959991</td>\n",
       "      <td>275.940002</td>\n",
       "      <td>280.959991</td>\n",
       "      <td>280.959991</td>\n",
       "      <td>5786900</td>\n",
       "    </tr>\n",
       "    <tr>\n",
       "      <th>3</th>\n",
       "      <td>11/30/2022</td>\n",
       "      <td>281.369995</td>\n",
       "      <td>308.260010</td>\n",
       "      <td>280.410004</td>\n",
       "      <td>305.529999</td>\n",
       "      <td>305.529999</td>\n",
       "      <td>16070100</td>\n",
       "    </tr>\n",
       "    <tr>\n",
       "      <th>4</th>\n",
       "      <td>12/1/2022</td>\n",
       "      <td>303.989990</td>\n",
       "      <td>319.799988</td>\n",
       "      <td>303.029999</td>\n",
       "      <td>316.950012</td>\n",
       "      <td>316.950012</td>\n",
       "      <td>14664900</td>\n",
       "    </tr>\n",
       "  </tbody>\n",
       "</table>\n",
       "</div>"
      ],
      "text/plain": [
       "         Date        Open        High         Low       Close   Adj Close   \n",
       "0  11/25/2022  289.000000  289.209991  284.170013  285.540009  285.540009  \\\n",
       "1  11/28/2022  284.000000  289.549988  280.529999  281.170013  281.170013   \n",
       "2  11/29/2022  282.500000  282.959991  275.940002  280.959991  280.959991   \n",
       "3  11/30/2022  281.369995  308.260010  280.410004  305.529999  305.529999   \n",
       "4   12/1/2022  303.989990  319.799988  303.029999  316.950012  316.950012   \n",
       "\n",
       "     Volume  \n",
       "0   3236000  \n",
       "1   4703400  \n",
       "2   5786900  \n",
       "3  16070100  \n",
       "4  14664900  "
      ]
     },
     "execution_count": 10,
     "metadata": {},
     "output_type": "execute_result"
    }
   ],
   "source": [
    "import pandas as pd\n",
    "\n",
    "Netflix = pd.read_csv('NFLX.csv')\n",
    "\n",
    "Netflix.head()"
   ]
  },
  {
   "cell_type": "code",
   "execution_count": 11,
   "metadata": {},
   "outputs": [
    {
     "data": {
      "text/html": [
       "<div>\n",
       "<style scoped>\n",
       "    .dataframe tbody tr th:only-of-type {\n",
       "        vertical-align: middle;\n",
       "    }\n",
       "\n",
       "    .dataframe tbody tr th {\n",
       "        vertical-align: top;\n",
       "    }\n",
       "\n",
       "    .dataframe thead th {\n",
       "        text-align: right;\n",
       "    }\n",
       "</style>\n",
       "<table border=\"1\" class=\"dataframe\">\n",
       "  <thead>\n",
       "    <tr style=\"text-align: right;\">\n",
       "      <th></th>\n",
       "      <th>Date</th>\n",
       "      <th>Open</th>\n",
       "      <th>High</th>\n",
       "      <th>Low</th>\n",
       "      <th>Close</th>\n",
       "      <th>Adj Close</th>\n",
       "      <th>Volume</th>\n",
       "    </tr>\n",
       "  </thead>\n",
       "  <tbody>\n",
       "    <tr>\n",
       "      <th>0</th>\n",
       "      <td>11/25/2022</td>\n",
       "      <td>289.000000</td>\n",
       "      <td>289.209991</td>\n",
       "      <td>284.170013</td>\n",
       "      <td>285.540009</td>\n",
       "      <td>285.540009</td>\n",
       "      <td>3236000</td>\n",
       "    </tr>\n",
       "    <tr>\n",
       "      <th>1</th>\n",
       "      <td>11/28/2022</td>\n",
       "      <td>284.000000</td>\n",
       "      <td>289.549988</td>\n",
       "      <td>280.529999</td>\n",
       "      <td>281.170013</td>\n",
       "      <td>281.170013</td>\n",
       "      <td>4703400</td>\n",
       "    </tr>\n",
       "    <tr>\n",
       "      <th>2</th>\n",
       "      <td>11/29/2022</td>\n",
       "      <td>282.500000</td>\n",
       "      <td>282.959991</td>\n",
       "      <td>275.940002</td>\n",
       "      <td>280.959991</td>\n",
       "      <td>280.959991</td>\n",
       "      <td>5786900</td>\n",
       "    </tr>\n",
       "    <tr>\n",
       "      <th>3</th>\n",
       "      <td>11/30/2022</td>\n",
       "      <td>281.369995</td>\n",
       "      <td>308.260010</td>\n",
       "      <td>280.410004</td>\n",
       "      <td>305.529999</td>\n",
       "      <td>305.529999</td>\n",
       "      <td>16070100</td>\n",
       "    </tr>\n",
       "    <tr>\n",
       "      <th>4</th>\n",
       "      <td>12/1/2022</td>\n",
       "      <td>303.989990</td>\n",
       "      <td>319.799988</td>\n",
       "      <td>303.029999</td>\n",
       "      <td>316.950012</td>\n",
       "      <td>316.950012</td>\n",
       "      <td>14664900</td>\n",
       "    </tr>\n",
       "    <tr>\n",
       "      <th>...</th>\n",
       "      <td>...</td>\n",
       "      <td>...</td>\n",
       "      <td>...</td>\n",
       "      <td>...</td>\n",
       "      <td>...</td>\n",
       "      <td>...</td>\n",
       "      <td>...</td>\n",
       "    </tr>\n",
       "    <tr>\n",
       "      <th>95</th>\n",
       "      <td>4/14/2023</td>\n",
       "      <td>342.940002</td>\n",
       "      <td>344.850006</td>\n",
       "      <td>336.410004</td>\n",
       "      <td>338.630005</td>\n",
       "      <td>338.630005</td>\n",
       "      <td>5345600</td>\n",
       "    </tr>\n",
       "    <tr>\n",
       "      <th>96</th>\n",
       "      <td>4/17/2023</td>\n",
       "      <td>338.000000</td>\n",
       "      <td>338.390015</td>\n",
       "      <td>327.500000</td>\n",
       "      <td>332.720001</td>\n",
       "      <td>332.720001</td>\n",
       "      <td>6136000</td>\n",
       "    </tr>\n",
       "    <tr>\n",
       "      <th>97</th>\n",
       "      <td>4/18/2023</td>\n",
       "      <td>335.000000</td>\n",
       "      <td>337.190002</td>\n",
       "      <td>330.500000</td>\n",
       "      <td>333.700012</td>\n",
       "      <td>333.700012</td>\n",
       "      <td>17944500</td>\n",
       "    </tr>\n",
       "    <tr>\n",
       "      <th>98</th>\n",
       "      <td>4/19/2023</td>\n",
       "      <td>324.209991</td>\n",
       "      <td>325.750000</td>\n",
       "      <td>316.100006</td>\n",
       "      <td>323.119995</td>\n",
       "      <td>323.119995</td>\n",
       "      <td>22128300</td>\n",
       "    </tr>\n",
       "    <tr>\n",
       "      <th>99</th>\n",
       "      <td>4/20/2023</td>\n",
       "      <td>320.390015</td>\n",
       "      <td>331.429993</td>\n",
       "      <td>318.329987</td>\n",
       "      <td>325.350006</td>\n",
       "      <td>325.350006</td>\n",
       "      <td>9947800</td>\n",
       "    </tr>\n",
       "  </tbody>\n",
       "</table>\n",
       "<p>100 rows × 7 columns</p>\n",
       "</div>"
      ],
      "text/plain": [
       "          Date        Open        High         Low       Close   Adj Close   \n",
       "0   11/25/2022  289.000000  289.209991  284.170013  285.540009  285.540009  \\\n",
       "1   11/28/2022  284.000000  289.549988  280.529999  281.170013  281.170013   \n",
       "2   11/29/2022  282.500000  282.959991  275.940002  280.959991  280.959991   \n",
       "3   11/30/2022  281.369995  308.260010  280.410004  305.529999  305.529999   \n",
       "4    12/1/2022  303.989990  319.799988  303.029999  316.950012  316.950012   \n",
       "..         ...         ...         ...         ...         ...         ...   \n",
       "95   4/14/2023  342.940002  344.850006  336.410004  338.630005  338.630005   \n",
       "96   4/17/2023  338.000000  338.390015  327.500000  332.720001  332.720001   \n",
       "97   4/18/2023  335.000000  337.190002  330.500000  333.700012  333.700012   \n",
       "98   4/19/2023  324.209991  325.750000  316.100006  323.119995  323.119995   \n",
       "99   4/20/2023  320.390015  331.429993  318.329987  325.350006  325.350006   \n",
       "\n",
       "      Volume  \n",
       "0    3236000  \n",
       "1    4703400  \n",
       "2    5786900  \n",
       "3   16070100  \n",
       "4   14664900  \n",
       "..       ...  \n",
       "95   5345600  \n",
       "96   6136000  \n",
       "97  17944500  \n",
       "98  22128300  \n",
       "99   9947800  \n",
       "\n",
       "[100 rows x 7 columns]"
      ]
     },
     "execution_count": 11,
     "metadata": {},
     "output_type": "execute_result"
    }
   ],
   "source": [
    "Netflix"
   ]
  },
  {
   "cell_type": "code",
   "execution_count": 12,
   "metadata": {},
   "outputs": [],
   "source": [
    "#Drop the columns we don't need\n",
    "\n",
    "Netflix = Netflix.drop(['Open', 'High', 'Low', 'Adj Close', 'Volume'], axis=1)"
   ]
  },
  {
   "cell_type": "code",
   "execution_count": 13,
   "metadata": {},
   "outputs": [
    {
     "data": {
      "text/html": [
       "<div>\n",
       "<style scoped>\n",
       "    .dataframe tbody tr th:only-of-type {\n",
       "        vertical-align: middle;\n",
       "    }\n",
       "\n",
       "    .dataframe tbody tr th {\n",
       "        vertical-align: top;\n",
       "    }\n",
       "\n",
       "    .dataframe thead th {\n",
       "        text-align: right;\n",
       "    }\n",
       "</style>\n",
       "<table border=\"1\" class=\"dataframe\">\n",
       "  <thead>\n",
       "    <tr style=\"text-align: right;\">\n",
       "      <th></th>\n",
       "      <th>Date</th>\n",
       "      <th>Close</th>\n",
       "    </tr>\n",
       "  </thead>\n",
       "  <tbody>\n",
       "    <tr>\n",
       "      <th>0</th>\n",
       "      <td>11/25/2022</td>\n",
       "      <td>285.540009</td>\n",
       "    </tr>\n",
       "    <tr>\n",
       "      <th>1</th>\n",
       "      <td>11/28/2022</td>\n",
       "      <td>281.170013</td>\n",
       "    </tr>\n",
       "    <tr>\n",
       "      <th>2</th>\n",
       "      <td>11/29/2022</td>\n",
       "      <td>280.959991</td>\n",
       "    </tr>\n",
       "    <tr>\n",
       "      <th>3</th>\n",
       "      <td>11/30/2022</td>\n",
       "      <td>305.529999</td>\n",
       "    </tr>\n",
       "    <tr>\n",
       "      <th>4</th>\n",
       "      <td>12/1/2022</td>\n",
       "      <td>316.950012</td>\n",
       "    </tr>\n",
       "    <tr>\n",
       "      <th>...</th>\n",
       "      <td>...</td>\n",
       "      <td>...</td>\n",
       "    </tr>\n",
       "    <tr>\n",
       "      <th>95</th>\n",
       "      <td>4/14/2023</td>\n",
       "      <td>338.630005</td>\n",
       "    </tr>\n",
       "    <tr>\n",
       "      <th>96</th>\n",
       "      <td>4/17/2023</td>\n",
       "      <td>332.720001</td>\n",
       "    </tr>\n",
       "    <tr>\n",
       "      <th>97</th>\n",
       "      <td>4/18/2023</td>\n",
       "      <td>333.700012</td>\n",
       "    </tr>\n",
       "    <tr>\n",
       "      <th>98</th>\n",
       "      <td>4/19/2023</td>\n",
       "      <td>323.119995</td>\n",
       "    </tr>\n",
       "    <tr>\n",
       "      <th>99</th>\n",
       "      <td>4/20/2023</td>\n",
       "      <td>325.350006</td>\n",
       "    </tr>\n",
       "  </tbody>\n",
       "</table>\n",
       "<p>100 rows × 2 columns</p>\n",
       "</div>"
      ],
      "text/plain": [
       "          Date       Close\n",
       "0   11/25/2022  285.540009\n",
       "1   11/28/2022  281.170013\n",
       "2   11/29/2022  280.959991\n",
       "3   11/30/2022  305.529999\n",
       "4    12/1/2022  316.950012\n",
       "..         ...         ...\n",
       "95   4/14/2023  338.630005\n",
       "96   4/17/2023  332.720001\n",
       "97   4/18/2023  333.700012\n",
       "98   4/19/2023  323.119995\n",
       "99   4/20/2023  325.350006\n",
       "\n",
       "[100 rows x 2 columns]"
      ]
     },
     "execution_count": 13,
     "metadata": {},
     "output_type": "execute_result"
    }
   ],
   "source": [
    "Netflix"
   ]
  },
  {
   "cell_type": "code",
   "execution_count": 14,
   "metadata": {},
   "outputs": [
    {
     "data": {
      "image/png": "[encoded data removed]",
      "text/plain": [
       "<Figure size 640x480 with 1 Axes>"
      ]
     },
     "metadata": {},
     "output_type": "display_data"
    }
   ],
   "source": [
    "#Plot temp\n",
    "\n",
    "plt.plot(Netflix['Close'])\n",
    "plt.show()"
   ]
  },
  {
   "cell_type": "markdown",
   "metadata": {},
   "source": [
    "# Data Cleanup"
   ]
  },
  {
   "cell_type": "code",
   "execution_count": 15,
   "metadata": {},
   "outputs": [],
   "source": [
    "# Remove all null values\n",
    "\n",
    "Netflix = Netflix.dropna().reset_index(drop=True)"
   ]
  },
  {
   "cell_type": "code",
   "execution_count": 16,
   "metadata": {},
   "outputs": [
    {
     "data": {
      "image/png": "[encoded data removed]",
      "text/plain": [
       "<Figure size 640x480 with 1 Axes>"
      ]
     },
     "metadata": {},
     "output_type": "display_data"
    }
   ],
   "source": [
    "plt.plot(Netflix['Close'])\n",
    "plt.show()"
   ]
  },
  {
   "cell_type": "markdown",
   "metadata": {},
   "source": [
    "## RESHAPE the data set!"
   ]
  },
  {
   "cell_type": "code",
   "execution_count": 17,
   "metadata": {},
   "outputs": [
    {
     "data": {
      "text/plain": [
       "(100, 2)"
      ]
     },
     "execution_count": 17,
     "metadata": {},
     "output_type": "execute_result"
    }
   ],
   "source": [
    "Netflix.shape"
   ]
  },
  {
   "cell_type": "code",
   "execution_count": 18,
   "metadata": {},
   "outputs": [
    {
     "data": {
      "text/plain": [
       "10.0"
      ]
     },
     "execution_count": 18,
     "metadata": {},
     "output_type": "execute_result"
    }
   ],
   "source": [
    "Netflix.shape[0]/10"
   ]
  },
  {
   "cell_type": "code",
   "execution_count": 19,
   "metadata": {},
   "outputs": [
    {
     "data": {
      "text/html": [
       "<div>\n",
       "<style scoped>\n",
       "    .dataframe tbody tr th:only-of-type {\n",
       "        vertical-align: middle;\n",
       "    }\n",
       "\n",
       "    .dataframe tbody tr th {\n",
       "        vertical-align: top;\n",
       "    }\n",
       "\n",
       "    .dataframe thead th {\n",
       "        text-align: right;\n",
       "    }\n",
       "</style>\n",
       "<table border=\"1\" class=\"dataframe\">\n",
       "  <thead>\n",
       "    <tr style=\"text-align: right;\">\n",
       "      <th></th>\n",
       "      <th>Close</th>\n",
       "    </tr>\n",
       "    <tr>\n",
       "      <th>Date</th>\n",
       "      <th></th>\n",
       "    </tr>\n",
       "  </thead>\n",
       "  <tbody>\n",
       "    <tr>\n",
       "      <th>1/10/2023</th>\n",
       "      <td>1</td>\n",
       "    </tr>\n",
       "    <tr>\n",
       "      <th>1/11/2023</th>\n",
       "      <td>1</td>\n",
       "    </tr>\n",
       "    <tr>\n",
       "      <th>1/12/2023</th>\n",
       "      <td>1</td>\n",
       "    </tr>\n",
       "    <tr>\n",
       "      <th>1/13/2023</th>\n",
       "      <td>1</td>\n",
       "    </tr>\n",
       "    <tr>\n",
       "      <th>1/17/2023</th>\n",
       "      <td>1</td>\n",
       "    </tr>\n",
       "    <tr>\n",
       "      <th>...</th>\n",
       "      <td>...</td>\n",
       "    </tr>\n",
       "    <tr>\n",
       "      <th>4/20/2023</th>\n",
       "      <td>1</td>\n",
       "    </tr>\n",
       "    <tr>\n",
       "      <th>4/3/2023</th>\n",
       "      <td>1</td>\n",
       "    </tr>\n",
       "    <tr>\n",
       "      <th>4/4/2023</th>\n",
       "      <td>1</td>\n",
       "    </tr>\n",
       "    <tr>\n",
       "      <th>4/5/2023</th>\n",
       "      <td>1</td>\n",
       "    </tr>\n",
       "    <tr>\n",
       "      <th>4/6/2023</th>\n",
       "      <td>1</td>\n",
       "    </tr>\n",
       "  </tbody>\n",
       "</table>\n",
       "<p>100 rows × 1 columns</p>\n",
       "</div>"
      ],
      "text/plain": [
       "           Close\n",
       "Date            \n",
       "1/10/2023      1\n",
       "1/11/2023      1\n",
       "1/12/2023      1\n",
       "1/13/2023      1\n",
       "1/17/2023      1\n",
       "...          ...\n",
       "4/20/2023      1\n",
       "4/3/2023       1\n",
       "4/4/2023       1\n",
       "4/5/2023       1\n",
       "4/6/2023       1\n",
       "\n",
       "[100 rows x 1 columns]"
      ]
     },
     "execution_count": 19,
     "metadata": {},
     "output_type": "execute_result"
    }
   ],
   "source": [
    "Netflix.groupby(['Date']).count()"
   ]
  },
  {
   "cell_type": "code",
   "execution_count": 20,
   "metadata": {},
   "outputs": [
    {
     "data": {
      "text/plain": [
       "array([[285.540009, 281.170013, 280.959991, 305.529999, 316.950012,\n",
       "        320.410004, 312.589996, 305.559998, 308.420013, 310.26001 ],\n",
       "       [320.01001 , 315.179993, 320.339996, 317.829987, 290.410004,\n",
       "        290.709991, 288.299988, 288.190002, 297.959991, 297.75    ],\n",
       "       [294.959991, 284.170013, 276.880005, 291.119995, 294.880005,\n",
       "        294.950012, 309.410004, 309.700012, 315.549988, 315.170013],\n",
       "       [327.540009, 327.26001 , 330.130005, 332.820007, 326.220001,\n",
       "        326.329987, 315.779999, 342.5     , 357.420013, 363.829987],\n",
       "       [367.959991, 364.869995, 360.769989, 353.109985, 353.859985,\n",
       "        361.98999 , 366.890015, 365.899994, 361.480011, 362.950012],\n",
       "       [366.829987, 362.5     , 347.359985, 358.570007, 359.959991,\n",
       "        361.420013, 350.709991, 347.959991, 337.5     , 334.880005],\n",
       "       [323.649994, 317.149994, 323.029999, 322.130005, 313.480011,\n",
       "        311.880005, 315.179993, 312.029999, 308.470001, 311.790009],\n",
       "       [297.779999, 292.76001 , 293.51001 , 294.940002, 303.790009,\n",
       "        310.059998, 303.5     , 305.130005, 305.790009, 293.899994],\n",
       "       [320.369995, 328.390015, 327.660004, 323.519989, 332.029999,\n",
       "        338.429993, 345.480011, 348.279999, 346.75    , 342.350006],\n",
       "       [339.329987, 338.98999 , 338.209991, 331.029999, 346.190002,\n",
       "        338.630005, 332.720001, 333.700012, 323.119995, 325.350006]])"
      ]
     },
     "execution_count": 20,
     "metadata": {},
     "output_type": "execute_result"
    }
   ],
   "source": [
    "# Re-organize the data set by day and hours\n",
    "\n",
    "stock = np.array(Netflix['Close']).reshape(10,10)\n",
    "\n",
    "stock"
   ]
  },
  {
   "cell_type": "code",
   "execution_count": 21,
   "metadata": {},
   "outputs": [
    {
     "data": {
      "text/html": [
       "<div>\n",
       "<style scoped>\n",
       "    .dataframe tbody tr th:only-of-type {\n",
       "        vertical-align: middle;\n",
       "    }\n",
       "\n",
       "    .dataframe tbody tr th {\n",
       "        vertical-align: top;\n",
       "    }\n",
       "\n",
       "    .dataframe thead th {\n",
       "        text-align: right;\n",
       "    }\n",
       "</style>\n",
       "<table border=\"1\" class=\"dataframe\">\n",
       "  <thead>\n",
       "    <tr style=\"text-align: right;\">\n",
       "      <th></th>\n",
       "      <th>0</th>\n",
       "      <th>1</th>\n",
       "      <th>2</th>\n",
       "      <th>3</th>\n",
       "      <th>4</th>\n",
       "      <th>5</th>\n",
       "      <th>6</th>\n",
       "      <th>7</th>\n",
       "      <th>8</th>\n",
       "      <th>9</th>\n",
       "    </tr>\n",
       "  </thead>\n",
       "  <tbody>\n",
       "    <tr>\n",
       "      <th>0</th>\n",
       "      <td>285.540009</td>\n",
       "      <td>281.170013</td>\n",
       "      <td>280.959991</td>\n",
       "      <td>305.529999</td>\n",
       "      <td>316.950012</td>\n",
       "      <td>320.410004</td>\n",
       "      <td>312.589996</td>\n",
       "      <td>305.559998</td>\n",
       "      <td>308.420013</td>\n",
       "      <td>310.260010</td>\n",
       "    </tr>\n",
       "    <tr>\n",
       "      <th>1</th>\n",
       "      <td>320.010010</td>\n",
       "      <td>315.179993</td>\n",
       "      <td>320.339996</td>\n",
       "      <td>317.829987</td>\n",
       "      <td>290.410004</td>\n",
       "      <td>290.709991</td>\n",
       "      <td>288.299988</td>\n",
       "      <td>288.190002</td>\n",
       "      <td>297.959991</td>\n",
       "      <td>297.750000</td>\n",
       "    </tr>\n",
       "    <tr>\n",
       "      <th>2</th>\n",
       "      <td>294.959991</td>\n",
       "      <td>284.170013</td>\n",
       "      <td>276.880005</td>\n",
       "      <td>291.119995</td>\n",
       "      <td>294.880005</td>\n",
       "      <td>294.950012</td>\n",
       "      <td>309.410004</td>\n",
       "      <td>309.700012</td>\n",
       "      <td>315.549988</td>\n",
       "      <td>315.170013</td>\n",
       "    </tr>\n",
       "    <tr>\n",
       "      <th>3</th>\n",
       "      <td>327.540009</td>\n",
       "      <td>327.260010</td>\n",
       "      <td>330.130005</td>\n",
       "      <td>332.820007</td>\n",
       "      <td>326.220001</td>\n",
       "      <td>326.329987</td>\n",
       "      <td>315.779999</td>\n",
       "      <td>342.500000</td>\n",
       "      <td>357.420013</td>\n",
       "      <td>363.829987</td>\n",
       "    </tr>\n",
       "    <tr>\n",
       "      <th>4</th>\n",
       "      <td>367.959991</td>\n",
       "      <td>364.869995</td>\n",
       "      <td>360.769989</td>\n",
       "      <td>353.109985</td>\n",
       "      <td>353.859985</td>\n",
       "      <td>361.989990</td>\n",
       "      <td>366.890015</td>\n",
       "      <td>365.899994</td>\n",
       "      <td>361.480011</td>\n",
       "      <td>362.950012</td>\n",
       "    </tr>\n",
       "    <tr>\n",
       "      <th>5</th>\n",
       "      <td>366.829987</td>\n",
       "      <td>362.500000</td>\n",
       "      <td>347.359985</td>\n",
       "      <td>358.570007</td>\n",
       "      <td>359.959991</td>\n",
       "      <td>361.420013</td>\n",
       "      <td>350.709991</td>\n",
       "      <td>347.959991</td>\n",
       "      <td>337.500000</td>\n",
       "      <td>334.880005</td>\n",
       "    </tr>\n",
       "    <tr>\n",
       "      <th>6</th>\n",
       "      <td>323.649994</td>\n",
       "      <td>317.149994</td>\n",
       "      <td>323.029999</td>\n",
       "      <td>322.130005</td>\n",
       "      <td>313.480011</td>\n",
       "      <td>311.880005</td>\n",
       "      <td>315.179993</td>\n",
       "      <td>312.029999</td>\n",
       "      <td>308.470001</td>\n",
       "      <td>311.790009</td>\n",
       "    </tr>\n",
       "    <tr>\n",
       "      <th>7</th>\n",
       "      <td>297.779999</td>\n",
       "      <td>292.760010</td>\n",
       "      <td>293.510010</td>\n",
       "      <td>294.940002</td>\n",
       "      <td>303.790009</td>\n",
       "      <td>310.059998</td>\n",
       "      <td>303.500000</td>\n",
       "      <td>305.130005</td>\n",
       "      <td>305.790009</td>\n",
       "      <td>293.899994</td>\n",
       "    </tr>\n",
       "    <tr>\n",
       "      <th>8</th>\n",
       "      <td>320.369995</td>\n",
       "      <td>328.390015</td>\n",
       "      <td>327.660004</td>\n",
       "      <td>323.519989</td>\n",
       "      <td>332.029999</td>\n",
       "      <td>338.429993</td>\n",
       "      <td>345.480011</td>\n",
       "      <td>348.279999</td>\n",
       "      <td>346.750000</td>\n",
       "      <td>342.350006</td>\n",
       "    </tr>\n",
       "    <tr>\n",
       "      <th>9</th>\n",
       "      <td>339.329987</td>\n",
       "      <td>338.989990</td>\n",
       "      <td>338.209991</td>\n",
       "      <td>331.029999</td>\n",
       "      <td>346.190002</td>\n",
       "      <td>338.630005</td>\n",
       "      <td>332.720001</td>\n",
       "      <td>333.700012</td>\n",
       "      <td>323.119995</td>\n",
       "      <td>325.350006</td>\n",
       "    </tr>\n",
       "  </tbody>\n",
       "</table>\n",
       "</div>"
      ],
      "text/plain": [
       "            0           1           2           3           4           5   \n",
       "0  285.540009  281.170013  280.959991  305.529999  316.950012  320.410004  \\\n",
       "1  320.010010  315.179993  320.339996  317.829987  290.410004  290.709991   \n",
       "2  294.959991  284.170013  276.880005  291.119995  294.880005  294.950012   \n",
       "3  327.540009  327.260010  330.130005  332.820007  326.220001  326.329987   \n",
       "4  367.959991  364.869995  360.769989  353.109985  353.859985  361.989990   \n",
       "5  366.829987  362.500000  347.359985  358.570007  359.959991  361.420013   \n",
       "6  323.649994  317.149994  323.029999  322.130005  313.480011  311.880005   \n",
       "7  297.779999  292.760010  293.510010  294.940002  303.790009  310.059998   \n",
       "8  320.369995  328.390015  327.660004  323.519989  332.029999  338.429993   \n",
       "9  339.329987  338.989990  338.209991  331.029999  346.190002  338.630005   \n",
       "\n",
       "            6           7           8           9  \n",
       "0  312.589996  305.559998  308.420013  310.260010  \n",
       "1  288.299988  288.190002  297.959991  297.750000  \n",
       "2  309.410004  309.700012  315.549988  315.170013  \n",
       "3  315.779999  342.500000  357.420013  363.829987  \n",
       "4  366.890015  365.899994  361.480011  362.950012  \n",
       "5  350.709991  347.959991  337.500000  334.880005  \n",
       "6  315.179993  312.029999  308.470001  311.790009  \n",
       "7  303.500000  305.130005  305.790009  293.899994  \n",
       "8  345.480011  348.279999  346.750000  342.350006  \n",
       "9  332.720001  333.700012  323.119995  325.350006  "
      ]
     },
     "execution_count": 21,
     "metadata": {},
     "output_type": "execute_result"
    }
   ],
   "source": [
    "# Convert to dataframe\n",
    "\n",
    "stock_df = pd.DataFrame(stock, columns=np.arange(0,10,1))\n",
    "\n",
    "stock_df"
   ]
  },
  {
   "cell_type": "markdown",
   "metadata": {},
   "source": [
    "# Reshape for Standardizing Data"
   ]
  },
  {
   "cell_type": "code",
   "execution_count": 22,
   "metadata": {},
   "outputs": [
    {
     "data": {
      "text/plain": [
       "(100, 1)"
      ]
     },
     "execution_count": 22,
     "metadata": {},
     "output_type": "execute_result"
    }
   ],
   "source": [
    "# Let's create a single sequence (i.e., feature) for standardization\n",
    "\n",
    "stock_1feature = np.array(stock_df).ravel().reshape(-1,1)\n",
    "\n",
    "stock_1feature.shape"
   ]
  },
  {
   "cell_type": "code",
   "execution_count": 23,
   "metadata": {
    "scrolled": true
   },
   "outputs": [
    {
     "data": {
      "text/plain": [
       "array([[285.540009],\n",
       "       [281.170013],\n",
       "       [280.959991],\n",
       "       [305.529999],\n",
       "       [316.950012],\n",
       "       [320.410004],\n",
       "       [312.589996],\n",
       "       [305.559998],\n",
       "       [308.420013],\n",
       "       [310.26001 ],\n",
       "       [320.01001 ],\n",
       "       [315.179993],\n",
       "       [320.339996],\n",
       "       [317.829987],\n",
       "       [290.410004],\n",
       "       [290.709991],\n",
       "       [288.299988],\n",
       "       [288.190002],\n",
       "       [297.959991],\n",
       "       [297.75    ],\n",
       "       [294.959991],\n",
       "       [284.170013],\n",
       "       [276.880005],\n",
       "       [291.119995],\n",
       "       [294.880005],\n",
       "       [294.950012],\n",
       "       [309.410004],\n",
       "       [309.700012],\n",
       "       [315.549988],\n",
       "       [315.170013],\n",
       "       [327.540009],\n",
       "       [327.26001 ],\n",
       "       [330.130005],\n",
       "       [332.820007],\n",
       "       [326.220001],\n",
       "       [326.329987],\n",
       "       [315.779999],\n",
       "       [342.5     ],\n",
       "       [357.420013],\n",
       "       [363.829987],\n",
       "       [367.959991],\n",
       "       [364.869995],\n",
       "       [360.769989],\n",
       "       [353.109985],\n",
       "       [353.859985],\n",
       "       [361.98999 ],\n",
       "       [366.890015],\n",
       "       [365.899994],\n",
       "       [361.480011],\n",
       "       [362.950012],\n",
       "       [366.829987],\n",
       "       [362.5     ],\n",
       "       [347.359985],\n",
       "       [358.570007],\n",
       "       [359.959991],\n",
       "       [361.420013],\n",
       "       [350.709991],\n",
       "       [347.959991],\n",
       "       [337.5     ],\n",
       "       [334.880005],\n",
       "       [323.649994],\n",
       "       [317.149994],\n",
       "       [323.029999],\n",
       "       [322.130005],\n",
       "       [313.480011],\n",
       "       [311.880005],\n",
       "       [315.179993],\n",
       "       [312.029999],\n",
       "       [308.470001],\n",
       "       [311.790009],\n",
       "       [297.779999],\n",
       "       [292.76001 ],\n",
       "       [293.51001 ],\n",
       "       [294.940002],\n",
       "       [303.790009],\n",
       "       [310.059998],\n",
       "       [303.5     ],\n",
       "       [305.130005],\n",
       "       [305.790009],\n",
       "       [293.899994],\n",
       "       [320.369995],\n",
       "       [328.390015],\n",
       "       [327.660004],\n",
       "       [323.519989],\n",
       "       [332.029999],\n",
       "       [338.429993],\n",
       "       [345.480011],\n",
       "       [348.279999],\n",
       "       [346.75    ],\n",
       "       [342.350006],\n",
       "       [339.329987],\n",
       "       [338.98999 ],\n",
       "       [338.209991],\n",
       "       [331.029999],\n",
       "       [346.190002],\n",
       "       [338.630005],\n",
       "       [332.720001],\n",
       "       [333.700012],\n",
       "       [323.119995],\n",
       "       [325.350006]])"
      ]
     },
     "execution_count": 23,
     "metadata": {},
     "output_type": "execute_result"
    }
   ],
   "source": [
    "stock_1feature"
   ]
  },
  {
   "cell_type": "markdown",
   "metadata": {},
   "source": [
    "## Standardize the values"
   ]
  },
  {
   "cell_type": "code",
   "execution_count": 24,
   "metadata": {},
   "outputs": [],
   "source": [
    "# Next, standardize\n",
    "\n",
    "from sklearn.preprocessing import StandardScaler\n",
    "\n",
    "scaler = StandardScaler()\n",
    "\n",
    "stock_std = scaler.fit_transform(stock_1feature)"
   ]
  },
  {
   "cell_type": "code",
   "execution_count": 25,
   "metadata": {},
   "outputs": [
    {
     "data": {
      "text/plain": [
       "(10, 10)"
      ]
     },
     "execution_count": 25,
     "metadata": {},
     "output_type": "execute_result"
    }
   ],
   "source": [
    "stock_reshaped = stock_std.reshape(10,10)\n",
    "\n",
    "stock_reshaped.shape"
   ]
  },
  {
   "cell_type": "code",
   "execution_count": 26,
   "metadata": {},
   "outputs": [
    {
     "data": {
      "text/html": [
       "<div>\n",
       "<style scoped>\n",
       "    .dataframe tbody tr th:only-of-type {\n",
       "        vertical-align: middle;\n",
       "    }\n",
       "\n",
       "    .dataframe tbody tr th {\n",
       "        vertical-align: top;\n",
       "    }\n",
       "\n",
       "    .dataframe thead th {\n",
       "        text-align: right;\n",
       "    }\n",
       "</style>\n",
       "<table border=\"1\" class=\"dataframe\">\n",
       "  <thead>\n",
       "    <tr style=\"text-align: right;\">\n",
       "      <th></th>\n",
       "      <th>0</th>\n",
       "      <th>1</th>\n",
       "      <th>2</th>\n",
       "      <th>3</th>\n",
       "      <th>4</th>\n",
       "      <th>5</th>\n",
       "      <th>6</th>\n",
       "      <th>7</th>\n",
       "      <th>8</th>\n",
       "      <th>9</th>\n",
       "    </tr>\n",
       "  </thead>\n",
       "  <tbody>\n",
       "    <tr>\n",
       "      <th>0</th>\n",
       "      <td>-1.585356</td>\n",
       "      <td>-1.765555</td>\n",
       "      <td>-1.774216</td>\n",
       "      <td>-0.761059</td>\n",
       "      <td>-0.290149</td>\n",
       "      <td>-0.147475</td>\n",
       "      <td>-0.469936</td>\n",
       "      <td>-0.759822</td>\n",
       "      <td>-0.641888</td>\n",
       "      <td>-0.566015</td>\n",
       "    </tr>\n",
       "    <tr>\n",
       "      <th>1</th>\n",
       "      <td>-0.163968</td>\n",
       "      <td>-0.363137</td>\n",
       "      <td>-0.150361</td>\n",
       "      <td>-0.253863</td>\n",
       "      <td>-1.384540</td>\n",
       "      <td>-1.372170</td>\n",
       "      <td>-1.471547</td>\n",
       "      <td>-1.476083</td>\n",
       "      <td>-1.073212</td>\n",
       "      <td>-1.081871</td>\n",
       "    </tr>\n",
       "    <tr>\n",
       "      <th>2</th>\n",
       "      <td>-1.196919</td>\n",
       "      <td>-1.641849</td>\n",
       "      <td>-1.942456</td>\n",
       "      <td>-1.355263</td>\n",
       "      <td>-1.200217</td>\n",
       "      <td>-1.197330</td>\n",
       "      <td>-0.601065</td>\n",
       "      <td>-0.589106</td>\n",
       "      <td>-0.347880</td>\n",
       "      <td>-0.363548</td>\n",
       "    </tr>\n",
       "    <tr>\n",
       "      <th>3</th>\n",
       "      <td>0.146535</td>\n",
       "      <td>0.134989</td>\n",
       "      <td>0.253335</td>\n",
       "      <td>0.364258</td>\n",
       "      <td>0.092104</td>\n",
       "      <td>0.096639</td>\n",
       "      <td>-0.338395</td>\n",
       "      <td>0.763418</td>\n",
       "      <td>1.378652</td>\n",
       "      <td>1.642970</td>\n",
       "    </tr>\n",
       "    <tr>\n",
       "      <th>4</th>\n",
       "      <td>1.813273</td>\n",
       "      <td>1.685856</td>\n",
       "      <td>1.516790</td>\n",
       "      <td>1.200926</td>\n",
       "      <td>1.231852</td>\n",
       "      <td>1.567097</td>\n",
       "      <td>1.769152</td>\n",
       "      <td>1.728328</td>\n",
       "      <td>1.546068</td>\n",
       "      <td>1.606684</td>\n",
       "    </tr>\n",
       "    <tr>\n",
       "      <th>5</th>\n",
       "      <td>1.766677</td>\n",
       "      <td>1.588128</td>\n",
       "      <td>0.963822</td>\n",
       "      <td>1.426072</td>\n",
       "      <td>1.483389</td>\n",
       "      <td>1.543594</td>\n",
       "      <td>1.101961</td>\n",
       "      <td>0.988563</td>\n",
       "      <td>0.557240</td>\n",
       "      <td>0.449203</td>\n",
       "    </tr>\n",
       "    <tr>\n",
       "      <th>6</th>\n",
       "      <td>-0.013872</td>\n",
       "      <td>-0.281903</td>\n",
       "      <td>-0.039438</td>\n",
       "      <td>-0.076549</td>\n",
       "      <td>-0.433236</td>\n",
       "      <td>-0.499213</td>\n",
       "      <td>-0.363137</td>\n",
       "      <td>-0.493028</td>\n",
       "      <td>-0.639827</td>\n",
       "      <td>-0.502924</td>\n",
       "    </tr>\n",
       "    <tr>\n",
       "      <th>7</th>\n",
       "      <td>-1.080634</td>\n",
       "      <td>-1.287636</td>\n",
       "      <td>-1.256709</td>\n",
       "      <td>-1.197743</td>\n",
       "      <td>-0.832808</td>\n",
       "      <td>-0.574262</td>\n",
       "      <td>-0.844767</td>\n",
       "      <td>-0.777553</td>\n",
       "      <td>-0.750337</td>\n",
       "      <td>-1.240628</td>\n",
       "    </tr>\n",
       "    <tr>\n",
       "      <th>8</th>\n",
       "      <td>-0.149124</td>\n",
       "      <td>0.181585</td>\n",
       "      <td>0.151483</td>\n",
       "      <td>-0.019233</td>\n",
       "      <td>0.331682</td>\n",
       "      <td>0.595589</td>\n",
       "      <td>0.886300</td>\n",
       "      <td>1.001759</td>\n",
       "      <td>0.938669</td>\n",
       "      <td>0.757233</td>\n",
       "    </tr>\n",
       "    <tr>\n",
       "      <th>9</th>\n",
       "      <td>0.632701</td>\n",
       "      <td>0.618681</td>\n",
       "      <td>0.586517</td>\n",
       "      <td>0.290446</td>\n",
       "      <td>0.915577</td>\n",
       "      <td>0.603836</td>\n",
       "      <td>0.360134</td>\n",
       "      <td>0.400546</td>\n",
       "      <td>-0.035727</td>\n",
       "      <td>0.056229</td>\n",
       "    </tr>\n",
       "  </tbody>\n",
       "</table>\n",
       "</div>"
      ],
      "text/plain": [
       "          0         1         2         3         4         5         6   \n",
       "0 -1.585356 -1.765555 -1.774216 -0.761059 -0.290149 -0.147475 -0.469936  \\\n",
       "1 -0.163968 -0.363137 -0.150361 -0.253863 -1.384540 -1.372170 -1.471547   \n",
       "2 -1.196919 -1.641849 -1.942456 -1.355263 -1.200217 -1.197330 -0.601065   \n",
       "3  0.146535  0.134989  0.253335  0.364258  0.092104  0.096639 -0.338395   \n",
       "4  1.813273  1.685856  1.516790  1.200926  1.231852  1.567097  1.769152   \n",
       "5  1.766677  1.588128  0.963822  1.426072  1.483389  1.543594  1.101961   \n",
       "6 -0.013872 -0.281903 -0.039438 -0.076549 -0.433236 -0.499213 -0.363137   \n",
       "7 -1.080634 -1.287636 -1.256709 -1.197743 -0.832808 -0.574262 -0.844767   \n",
       "8 -0.149124  0.181585  0.151483 -0.019233  0.331682  0.595589  0.886300   \n",
       "9  0.632701  0.618681  0.586517  0.290446  0.915577  0.603836  0.360134   \n",
       "\n",
       "          7         8         9  \n",
       "0 -0.759822 -0.641888 -0.566015  \n",
       "1 -1.476083 -1.073212 -1.081871  \n",
       "2 -0.589106 -0.347880 -0.363548  \n",
       "3  0.763418  1.378652  1.642970  \n",
       "4  1.728328  1.546068  1.606684  \n",
       "5  0.988563  0.557240  0.449203  \n",
       "6 -0.493028 -0.639827 -0.502924  \n",
       "7 -0.777553 -0.750337 -1.240628  \n",
       "8  1.001759  0.938669  0.757233  \n",
       "9  0.400546 -0.035727  0.056229  "
      ]
     },
     "execution_count": 26,
     "metadata": {},
     "output_type": "execute_result"
    }
   ],
   "source": [
    "#Pandas version of the reshaped data\n",
    "\n",
    "pd.DataFrame(stock_reshaped)"
   ]
  },
  {
   "cell_type": "markdown",
   "metadata": {},
   "source": [
    "# Split the Data\n",
    "\n",
    "**In certain cases, we cannot use a random split. For example, if we are trying to predict the stock market, we cannot use a random split. We need to use a chronological split.**\n",
    "\n",
    "BUT, keep in mind if we have something like hourly readings of dayly temperature, we can use a random split on days, but the sequence of the temperature within the day is important to remain sequential.\n",
    "\n",
    "In this case, we are using a random spli because each day as an independent sample."
   ]
  },
  {
   "cell_type": "code",
   "execution_count": 46,
   "metadata": {},
   "outputs": [],
   "source": [
    "from sklearn.model_selection import train_test_split\n",
    "\n",
    "#train, test = train_test_split(stock_reshaped, test_size=0.3)\n",
    "\n",
    "# if we neede to maintain the ordering of the data, we can use the following code to split the data\n",
    "split_point = int(len(stock_reshaped)*0.7)\n",
    "\n",
    "train, test = stock_reshaped[:split_point], stock_reshaped[split_point:]"
   ]
  },
  {
   "cell_type": "code",
   "execution_count": 47,
   "metadata": {},
   "outputs": [
    {
     "data": {
      "text/plain": [
       "(7, 10)"
      ]
     },
     "execution_count": 47,
     "metadata": {},
     "output_type": "execute_result"
    }
   ],
   "source": [
    "train.shape"
   ]
  },
  {
   "cell_type": "code",
   "execution_count": 48,
   "metadata": {},
   "outputs": [
    {
     "data": {
      "text/plain": [
       "array([[-1.58535635, -1.76555534, -1.77421571, -0.76105903, -0.29014903,\n",
       "        -0.14747451, -0.46993649, -0.759822  , -0.64188784, -0.56601464],\n",
       "       [-0.16396847, -0.36313666, -0.15036133, -0.25386282, -1.38453965,\n",
       "        -1.37216954, -1.47154723, -1.47608256, -1.07321213, -1.08187121],\n",
       "       [-1.19691864, -1.64184883, -1.94245599, -1.35526282, -1.20021691,\n",
       "        -1.19733013, -0.60106506, -0.58910644, -0.34787972, -0.36354819],\n",
       "       [ 0.14653484,  0.13498894,  0.25333463,  0.36425822,  0.09210365,\n",
       "         0.09663897, -0.33839511,  0.76341762,  1.37865189,  1.6429704 ],\n",
       "       [ 1.8132732 ,  1.68585565,  1.51678984,  1.20092571,  1.23185234,\n",
       "         1.56709719,  1.7691522 ,  1.72832818,  1.54606795,  1.60668419],\n",
       "       [ 1.76667691,  1.58812771,  0.96382155,  1.42607247,  1.48338916,\n",
       "         1.54359391,  1.10196074,  0.98856311,  0.5572401 ,  0.44920328],\n",
       "       [-0.01387189, -0.28190267, -0.0394377 , -0.0765494 , -0.43323627,\n",
       "        -0.49921333, -0.36313666, -0.49302825, -0.63982656, -0.50292436]])"
      ]
     },
     "execution_count": 48,
     "metadata": {},
     "output_type": "execute_result"
    }
   ],
   "source": [
    "train"
   ]
  },
  {
   "cell_type": "code",
   "execution_count": 49,
   "metadata": {},
   "outputs": [
    {
     "data": {
      "text/plain": [
       "(3, 10)"
      ]
     },
     "execution_count": 49,
     "metadata": {},
     "output_type": "execute_result"
    }
   ],
   "source": [
    "test.shape"
   ]
  },
  {
   "cell_type": "code",
   "execution_count": 50,
   "metadata": {},
   "outputs": [
    {
     "data": {
      "text/plain": [
       "array([[-1.08063419, -1.28763597, -1.25670934, -1.1977429 , -0.83280839,\n",
       "        -0.57426223, -0.84476706, -0.77755298, -0.75033738, -1.24062815],\n",
       "       [-0.1491243 ,  0.18158527,  0.1514829 , -0.01923271,  0.33168185,\n",
       "         0.59558883,  0.88629988,  1.0017588 ,  0.93866852,  0.75723254],\n",
       "       [ 0.63270053,  0.61868059,  0.58651693,  0.29044634,  0.91557672,\n",
       "         0.60383642,  0.36013443,  0.40054567, -0.03572667,  0.05622896]])"
      ]
     },
     "execution_count": 50,
     "metadata": {},
     "output_type": "execute_result"
    }
   ],
   "source": [
    "test"
   ]
  },
  {
   "cell_type": "markdown",
   "metadata": {},
   "source": [
    "# Create Input and Target values"
   ]
  },
  {
   "cell_type": "code",
   "execution_count": 51,
   "metadata": {},
   "outputs": [
    {
     "data": {
      "text/html": [
       "<div>\n",
       "<style scoped>\n",
       "    .dataframe tbody tr th:only-of-type {\n",
       "        vertical-align: middle;\n",
       "    }\n",
       "\n",
       "    .dataframe tbody tr th {\n",
       "        vertical-align: top;\n",
       "    }\n",
       "\n",
       "    .dataframe thead th {\n",
       "        text-align: right;\n",
       "    }\n",
       "</style>\n",
       "<table border=\"1\" class=\"dataframe\">\n",
       "  <thead>\n",
       "    <tr style=\"text-align: right;\">\n",
       "      <th></th>\n",
       "      <th>0</th>\n",
       "      <th>1</th>\n",
       "      <th>2</th>\n",
       "      <th>3</th>\n",
       "      <th>4</th>\n",
       "      <th>5</th>\n",
       "      <th>6</th>\n",
       "      <th>7</th>\n",
       "      <th>8</th>\n",
       "    </tr>\n",
       "  </thead>\n",
       "  <tbody>\n",
       "    <tr>\n",
       "      <th>0</th>\n",
       "      <td>-1.585356</td>\n",
       "      <td>-1.765555</td>\n",
       "      <td>-1.774216</td>\n",
       "      <td>-0.761059</td>\n",
       "      <td>-0.290149</td>\n",
       "      <td>-0.147475</td>\n",
       "      <td>-0.469936</td>\n",
       "      <td>-0.759822</td>\n",
       "      <td>-0.641888</td>\n",
       "    </tr>\n",
       "    <tr>\n",
       "      <th>1</th>\n",
       "      <td>-0.163968</td>\n",
       "      <td>-0.363137</td>\n",
       "      <td>-0.150361</td>\n",
       "      <td>-0.253863</td>\n",
       "      <td>-1.384540</td>\n",
       "      <td>-1.372170</td>\n",
       "      <td>-1.471547</td>\n",
       "      <td>-1.476083</td>\n",
       "      <td>-1.073212</td>\n",
       "    </tr>\n",
       "    <tr>\n",
       "      <th>2</th>\n",
       "      <td>-1.196919</td>\n",
       "      <td>-1.641849</td>\n",
       "      <td>-1.942456</td>\n",
       "      <td>-1.355263</td>\n",
       "      <td>-1.200217</td>\n",
       "      <td>-1.197330</td>\n",
       "      <td>-0.601065</td>\n",
       "      <td>-0.589106</td>\n",
       "      <td>-0.347880</td>\n",
       "    </tr>\n",
       "    <tr>\n",
       "      <th>3</th>\n",
       "      <td>0.146535</td>\n",
       "      <td>0.134989</td>\n",
       "      <td>0.253335</td>\n",
       "      <td>0.364258</td>\n",
       "      <td>0.092104</td>\n",
       "      <td>0.096639</td>\n",
       "      <td>-0.338395</td>\n",
       "      <td>0.763418</td>\n",
       "      <td>1.378652</td>\n",
       "    </tr>\n",
       "    <tr>\n",
       "      <th>4</th>\n",
       "      <td>1.813273</td>\n",
       "      <td>1.685856</td>\n",
       "      <td>1.516790</td>\n",
       "      <td>1.200926</td>\n",
       "      <td>1.231852</td>\n",
       "      <td>1.567097</td>\n",
       "      <td>1.769152</td>\n",
       "      <td>1.728328</td>\n",
       "      <td>1.546068</td>\n",
       "    </tr>\n",
       "    <tr>\n",
       "      <th>5</th>\n",
       "      <td>1.766677</td>\n",
       "      <td>1.588128</td>\n",
       "      <td>0.963822</td>\n",
       "      <td>1.426072</td>\n",
       "      <td>1.483389</td>\n",
       "      <td>1.543594</td>\n",
       "      <td>1.101961</td>\n",
       "      <td>0.988563</td>\n",
       "      <td>0.557240</td>\n",
       "    </tr>\n",
       "    <tr>\n",
       "      <th>6</th>\n",
       "      <td>-0.013872</td>\n",
       "      <td>-0.281903</td>\n",
       "      <td>-0.039438</td>\n",
       "      <td>-0.076549</td>\n",
       "      <td>-0.433236</td>\n",
       "      <td>-0.499213</td>\n",
       "      <td>-0.363137</td>\n",
       "      <td>-0.493028</td>\n",
       "      <td>-0.639827</td>\n",
       "    </tr>\n",
       "  </tbody>\n",
       "</table>\n",
       "</div>"
      ],
      "text/plain": [
       "          0         1         2         3         4         5         6   \n",
       "0 -1.585356 -1.765555 -1.774216 -0.761059 -0.290149 -0.147475 -0.469936  \\\n",
       "1 -0.163968 -0.363137 -0.150361 -0.253863 -1.384540 -1.372170 -1.471547   \n",
       "2 -1.196919 -1.641849 -1.942456 -1.355263 -1.200217 -1.197330 -0.601065   \n",
       "3  0.146535  0.134989  0.253335  0.364258  0.092104  0.096639 -0.338395   \n",
       "4  1.813273  1.685856  1.516790  1.200926  1.231852  1.567097  1.769152   \n",
       "5  1.766677  1.588128  0.963822  1.426072  1.483389  1.543594  1.101961   \n",
       "6 -0.013872 -0.281903 -0.039438 -0.076549 -0.433236 -0.499213 -0.363137   \n",
       "\n",
       "          7         8  \n",
       "0 -0.759822 -0.641888  \n",
       "1 -1.476083 -1.073212  \n",
       "2 -0.589106 -0.347880  \n",
       "3  0.763418  1.378652  \n",
       "4  1.728328  1.546068  \n",
       "5  0.988563  0.557240  \n",
       "6 -0.493028 -0.639827  "
      ]
     },
     "execution_count": 51,
     "metadata": {},
     "output_type": "execute_result"
    }
   ],
   "source": [
    "train_inputs = train[:,:9]\n",
    "\n",
    "\n",
    "pd.DataFrame(train_inputs)"
   ]
  },
  {
   "cell_type": "markdown",
   "metadata": {},
   "source": [
    "## Add one more dimension to make it ready for RNNs"
   ]
  },
  {
   "cell_type": "markdown",
   "metadata": {},
   "source": [
    "See here for more details: https://keras.io/layers/recurrent/, and https://shiva-verma.medium.com/understanding-input-and-output-shape-in-lstm-keras-c501ee95c65e\n"
   ]
  },
  {
   "cell_type": "code",
   "execution_count": 52,
   "metadata": {},
   "outputs": [
    {
     "data": {
      "text/plain": [
       "array([[-1.58535635, -1.76555534, -1.77421571, -0.76105903, -0.29014903,\n",
       "        -0.14747451, -0.46993649, -0.759822  , -0.64188784],\n",
       "       [-0.16396847, -0.36313666, -0.15036133, -0.25386282, -1.38453965,\n",
       "        -1.37216954, -1.47154723, -1.47608256, -1.07321213],\n",
       "       [-1.19691864, -1.64184883, -1.94245599, -1.35526282, -1.20021691,\n",
       "        -1.19733013, -0.60106506, -0.58910644, -0.34787972],\n",
       "       [ 0.14653484,  0.13498894,  0.25333463,  0.36425822,  0.09210365,\n",
       "         0.09663897, -0.33839511,  0.76341762,  1.37865189],\n",
       "       [ 1.8132732 ,  1.68585565,  1.51678984,  1.20092571,  1.23185234,\n",
       "         1.56709719,  1.7691522 ,  1.72832818,  1.54606795],\n",
       "       [ 1.76667691,  1.58812771,  0.96382155,  1.42607247,  1.48338916,\n",
       "         1.54359391,  1.10196074,  0.98856311,  0.5572401 ],\n",
       "       [-0.01387189, -0.28190267, -0.0394377 , -0.0765494 , -0.43323627,\n",
       "        -0.49921333, -0.36313666, -0.49302825, -0.63982656]])"
      ]
     },
     "execution_count": 52,
     "metadata": {},
     "output_type": "execute_result"
    }
   ],
   "source": [
    "train_inputs"
   ]
  },
  {
   "cell_type": "code",
   "execution_count": 53,
   "metadata": {},
   "outputs": [
    {
     "data": {
      "text/plain": [
       "(7, 9)"
      ]
     },
     "execution_count": 53,
     "metadata": {},
     "output_type": "execute_result"
    }
   ],
   "source": [
    "train_inputs.shape "
   ]
  },
  {
   "cell_type": "code",
   "execution_count": 54,
   "metadata": {},
   "outputs": [
    {
     "data": {
      "text/plain": [
       "(7, 9, 1)"
      ]
     },
     "execution_count": 54,
     "metadata": {},
     "output_type": "execute_result"
    }
   ],
   "source": [
    "#Create an additional dimension for train\n",
    "\n",
    "train_x = train_inputs[:,:,np.newaxis]\n",
    "\n",
    "train_x.shape "
   ]
  },
  {
   "cell_type": "code",
   "execution_count": 55,
   "metadata": {},
   "outputs": [
    {
     "data": {
      "text/plain": [
       "array([[[-1.58535635],\n",
       "        [-1.76555534],\n",
       "        [-1.77421571],\n",
       "        [-0.76105903],\n",
       "        [-0.29014903],\n",
       "        [-0.14747451],\n",
       "        [-0.46993649],\n",
       "        [-0.759822  ],\n",
       "        [-0.64188784]],\n",
       "\n",
       "       [[-0.16396847],\n",
       "        [-0.36313666],\n",
       "        [-0.15036133],\n",
       "        [-0.25386282],\n",
       "        [-1.38453965],\n",
       "        [-1.37216954],\n",
       "        [-1.47154723],\n",
       "        [-1.47608256],\n",
       "        [-1.07321213]],\n",
       "\n",
       "       [[-1.19691864],\n",
       "        [-1.64184883],\n",
       "        [-1.94245599],\n",
       "        [-1.35526282],\n",
       "        [-1.20021691],\n",
       "        [-1.19733013],\n",
       "        [-0.60106506],\n",
       "        [-0.58910644],\n",
       "        [-0.34787972]],\n",
       "\n",
       "       [[ 0.14653484],\n",
       "        [ 0.13498894],\n",
       "        [ 0.25333463],\n",
       "        [ 0.36425822],\n",
       "        [ 0.09210365],\n",
       "        [ 0.09663897],\n",
       "        [-0.33839511],\n",
       "        [ 0.76341762],\n",
       "        [ 1.37865189]],\n",
       "\n",
       "       [[ 1.8132732 ],\n",
       "        [ 1.68585565],\n",
       "        [ 1.51678984],\n",
       "        [ 1.20092571],\n",
       "        [ 1.23185234],\n",
       "        [ 1.56709719],\n",
       "        [ 1.7691522 ],\n",
       "        [ 1.72832818],\n",
       "        [ 1.54606795]],\n",
       "\n",
       "       [[ 1.76667691],\n",
       "        [ 1.58812771],\n",
       "        [ 0.96382155],\n",
       "        [ 1.42607247],\n",
       "        [ 1.48338916],\n",
       "        [ 1.54359391],\n",
       "        [ 1.10196074],\n",
       "        [ 0.98856311],\n",
       "        [ 0.5572401 ]],\n",
       "\n",
       "       [[-0.01387189],\n",
       "        [-0.28190267],\n",
       "        [-0.0394377 ],\n",
       "        [-0.0765494 ],\n",
       "        [-0.43323627],\n",
       "        [-0.49921333],\n",
       "        [-0.36313666],\n",
       "        [-0.49302825],\n",
       "        [-0.63982656]]])"
      ]
     },
     "execution_count": 55,
     "metadata": {},
     "output_type": "execute_result"
    }
   ],
   "source": [
    "train_x"
   ]
  },
  {
   "cell_type": "markdown",
   "metadata": {},
   "source": [
    "## Set the target"
   ]
  },
  {
   "cell_type": "code",
   "execution_count": 56,
   "metadata": {},
   "outputs": [
    {
     "data": {
      "text/html": [
       "<div>\n",
       "<style scoped>\n",
       "    .dataframe tbody tr th:only-of-type {\n",
       "        vertical-align: middle;\n",
       "    }\n",
       "\n",
       "    .dataframe tbody tr th {\n",
       "        vertical-align: top;\n",
       "    }\n",
       "\n",
       "    .dataframe thead th {\n",
       "        text-align: right;\n",
       "    }\n",
       "</style>\n",
       "<table border=\"1\" class=\"dataframe\">\n",
       "  <thead>\n",
       "    <tr style=\"text-align: right;\">\n",
       "      <th></th>\n",
       "      <th>9</th>\n",
       "    </tr>\n",
       "  </thead>\n",
       "  <tbody>\n",
       "    <tr>\n",
       "      <th>0</th>\n",
       "      <td>-0.566015</td>\n",
       "    </tr>\n",
       "    <tr>\n",
       "      <th>1</th>\n",
       "      <td>-1.081871</td>\n",
       "    </tr>\n",
       "    <tr>\n",
       "      <th>2</th>\n",
       "      <td>-0.363548</td>\n",
       "    </tr>\n",
       "    <tr>\n",
       "      <th>3</th>\n",
       "      <td>1.642970</td>\n",
       "    </tr>\n",
       "    <tr>\n",
       "      <th>4</th>\n",
       "      <td>1.606684</td>\n",
       "    </tr>\n",
       "    <tr>\n",
       "      <th>5</th>\n",
       "      <td>0.449203</td>\n",
       "    </tr>\n",
       "    <tr>\n",
       "      <th>6</th>\n",
       "      <td>-0.502924</td>\n",
       "    </tr>\n",
       "  </tbody>\n",
       "</table>\n",
       "</div>"
      ],
      "text/plain": [
       "          9\n",
       "0 -0.566015\n",
       "1 -1.081871\n",
       "2 -0.363548\n",
       "3  1.642970\n",
       "4  1.606684\n",
       "5  0.449203\n",
       "6 -0.502924"
      ]
     },
     "execution_count": 56,
     "metadata": {},
     "output_type": "execute_result"
    }
   ],
   "source": [
    "# The last column (23) is TARGET\n",
    "\n",
    "train_target = train[:,-1]\n",
    "\n",
    "\n",
    "pd.DataFrame(train_target, columns=['9'])"
   ]
  },
  {
   "cell_type": "markdown",
   "metadata": {},
   "source": [
    "## Repeat for TEST"
   ]
  },
  {
   "cell_type": "code",
   "execution_count": 57,
   "metadata": {},
   "outputs": [
    {
     "data": {
      "text/plain": [
       "(3, 10)"
      ]
     },
     "execution_count": 57,
     "metadata": {},
     "output_type": "execute_result"
    }
   ],
   "source": [
    "test.shape"
   ]
  },
  {
   "cell_type": "code",
   "execution_count": 58,
   "metadata": {},
   "outputs": [
    {
     "data": {
      "text/plain": [
       "array([[-1.08063419, -1.28763597, -1.25670934, -1.1977429 , -0.83280839,\n",
       "        -0.57426223, -0.84476706, -0.77755298, -0.75033738, -1.24062815],\n",
       "       [-0.1491243 ,  0.18158527,  0.1514829 , -0.01923271,  0.33168185,\n",
       "         0.59558883,  0.88629988,  1.0017588 ,  0.93866852,  0.75723254],\n",
       "       [ 0.63270053,  0.61868059,  0.58651693,  0.29044634,  0.91557672,\n",
       "         0.60383642,  0.36013443,  0.40054567, -0.03572667,  0.05622896]])"
      ]
     },
     "execution_count": 58,
     "metadata": {},
     "output_type": "execute_result"
    }
   ],
   "source": [
    "test"
   ]
  },
  {
   "cell_type": "code",
   "execution_count": 59,
   "metadata": {},
   "outputs": [],
   "source": [
    "test_inputs = test[:, :9]"
   ]
  },
  {
   "cell_type": "code",
   "execution_count": 60,
   "metadata": {},
   "outputs": [
    {
     "data": {
      "text/plain": [
       "array([[-1.08063419, -1.28763597, -1.25670934, -1.1977429 , -0.83280839,\n",
       "        -0.57426223, -0.84476706, -0.77755298, -0.75033738],\n",
       "       [-0.1491243 ,  0.18158527,  0.1514829 , -0.01923271,  0.33168185,\n",
       "         0.59558883,  0.88629988,  1.0017588 ,  0.93866852],\n",
       "       [ 0.63270053,  0.61868059,  0.58651693,  0.29044634,  0.91557672,\n",
       "         0.60383642,  0.36013443,  0.40054567, -0.03572667]])"
      ]
     },
     "execution_count": 60,
     "metadata": {},
     "output_type": "execute_result"
    }
   ],
   "source": [
    "test_inputs"
   ]
  },
  {
   "cell_type": "code",
   "execution_count": 61,
   "metadata": {},
   "outputs": [
    {
     "data": {
      "text/plain": [
       "(3, 9, 1)"
      ]
     },
     "execution_count": 61,
     "metadata": {},
     "output_type": "execute_result"
    }
   ],
   "source": [
    "#Create an additional dimension for test\n",
    "\n",
    "test_x = test_inputs[:,:,np.newaxis]\n",
    "\n",
    "test_x.shape "
   ]
  },
  {
   "cell_type": "code",
   "execution_count": 62,
   "metadata": {},
   "outputs": [
    {
     "data": {
      "text/html": [
       "<div>\n",
       "<style scoped>\n",
       "    .dataframe tbody tr th:only-of-type {\n",
       "        vertical-align: middle;\n",
       "    }\n",
       "\n",
       "    .dataframe tbody tr th {\n",
       "        vertical-align: top;\n",
       "    }\n",
       "\n",
       "    .dataframe thead th {\n",
       "        text-align: right;\n",
       "    }\n",
       "</style>\n",
       "<table border=\"1\" class=\"dataframe\">\n",
       "  <thead>\n",
       "    <tr style=\"text-align: right;\">\n",
       "      <th></th>\n",
       "      <th>9</th>\n",
       "    </tr>\n",
       "  </thead>\n",
       "  <tbody>\n",
       "    <tr>\n",
       "      <th>0</th>\n",
       "      <td>-1.240628</td>\n",
       "    </tr>\n",
       "    <tr>\n",
       "      <th>1</th>\n",
       "      <td>0.757233</td>\n",
       "    </tr>\n",
       "    <tr>\n",
       "      <th>2</th>\n",
       "      <td>0.056229</td>\n",
       "    </tr>\n",
       "  </tbody>\n",
       "</table>\n",
       "</div>"
      ],
      "text/plain": [
       "          9\n",
       "0 -1.240628\n",
       "1  0.757233\n",
       "2  0.056229"
      ]
     },
     "execution_count": 62,
     "metadata": {},
     "output_type": "execute_result"
    }
   ],
   "source": [
    "test_target = test[:,-1]\n",
    "\n",
    "\n",
    "pd.DataFrame(test_target, columns=['9'])"
   ]
  },
  {
   "cell_type": "code",
   "execution_count": 63,
   "metadata": {},
   "outputs": [],
   "source": [
    "performance = pd.DataFrame({\"model\":[], \"MSE\":[]})"
   ]
  },
  {
   "cell_type": "markdown",
   "metadata": {},
   "source": [
    "# A normal (cross-sectional) NN\n",
    "\n",
    "This model assumes that the data is NOT a time-series data set. It treats the data as cross-sectional and the columns being independent of each other."
   ]
  },
  {
   "cell_type": "code",
   "execution_count": 64,
   "metadata": {},
   "outputs": [
    {
     "name": "stdout",
     "output_type": "stream",
     "text": [
      "Epoch 1/100\n",
      "1/1 [==============================] - 0s 444ms/step - loss: 1.3491\n",
      "Epoch 2/100\n",
      "1/1 [==============================] - 0s 4ms/step - loss: 1.2736\n",
      "Epoch 3/100\n",
      "1/1 [==============================] - 0s 2ms/step - loss: 1.2015\n",
      "Epoch 4/100\n",
      "1/1 [==============================] - 0s 3ms/step - loss: 1.1325\n",
      "Epoch 5/100\n",
      "1/1 [==============================] - 0s 4ms/step - loss: 1.0656\n",
      "Epoch 6/100\n",
      "1/1 [==============================] - 0s 4ms/step - loss: 1.0011\n",
      "Epoch 7/100\n",
      "1/1 [==============================] - 0s 3ms/step - loss: 0.9404\n",
      "Epoch 8/100\n",
      "1/1 [==============================] - 0s 3ms/step - loss: 0.8825\n",
      "Epoch 9/100\n",
      "1/1 [==============================] - 0s 4ms/step - loss: 0.8256\n",
      "Epoch 10/100\n",
      "1/1 [==============================] - 0s 4ms/step - loss: 0.7722\n",
      "Epoch 11/100\n",
      "1/1 [==============================] - 0s 4ms/step - loss: 0.7227\n",
      "Epoch 12/100\n",
      "1/1 [==============================] - 0s 4ms/step - loss: 0.6774\n",
      "Epoch 13/100\n",
      "1/1 [==============================] - 0s 4ms/step - loss: 0.6357\n",
      "Epoch 14/100\n",
      "1/1 [==============================] - 0s 4ms/step - loss: 0.5980\n",
      "Epoch 15/100\n",
      "1/1 [==============================] - 0s 4ms/step - loss: 0.5643\n",
      "Epoch 16/100\n",
      "1/1 [==============================] - 0s 4ms/step - loss: 0.5347\n",
      "Epoch 17/100\n",
      "1/1 [==============================] - 0s 4ms/step - loss: 0.5089\n",
      "Epoch 18/100\n",
      "1/1 [==============================] - 0s 4ms/step - loss: 0.4867\n",
      "Epoch 19/100\n",
      "1/1 [==============================] - 0s 4ms/step - loss: 0.4679\n",
      "Epoch 20/100\n",
      "1/1 [==============================] - 0s 4ms/step - loss: 0.4522\n",
      "Epoch 21/100\n",
      "1/1 [==============================] - 0s 3ms/step - loss: 0.4393\n",
      "Epoch 22/100\n",
      "1/1 [==============================] - 0s 3ms/step - loss: 0.4290\n",
      "Epoch 23/100\n",
      "1/1 [==============================] - 0s 5ms/step - loss: 0.4210\n",
      "Epoch 24/100\n",
      "1/1 [==============================] - 0s 3ms/step - loss: 0.4147\n",
      "Epoch 25/100\n",
      "1/1 [==============================] - 0s 4ms/step - loss: 0.4100\n",
      "Epoch 26/100\n",
      "1/1 [==============================] - 0s 4ms/step - loss: 0.4062\n",
      "Epoch 27/100\n",
      "1/1 [==============================] - 0s 4ms/step - loss: 0.4031\n",
      "Epoch 28/100\n",
      "1/1 [==============================] - 0s 6ms/step - loss: 0.4004\n",
      "Epoch 29/100\n",
      "1/1 [==============================] - 0s 5ms/step - loss: 0.3979\n",
      "Epoch 30/100\n",
      "1/1 [==============================] - 0s 5ms/step - loss: 0.3954\n",
      "Epoch 31/100\n",
      "1/1 [==============================] - 0s 5ms/step - loss: 0.3929\n",
      "Epoch 32/100\n",
      "1/1 [==============================] - 0s 4ms/step - loss: 0.3902\n",
      "Epoch 33/100\n",
      "1/1 [==============================] - 0s 5ms/step - loss: 0.3873\n",
      "Epoch 34/100\n",
      "1/1 [==============================] - 0s 4ms/step - loss: 0.3841\n",
      "Epoch 35/100\n",
      "1/1 [==============================] - 0s 4ms/step - loss: 0.3805\n",
      "Epoch 36/100\n",
      "1/1 [==============================] - 0s 4ms/step - loss: 0.3766\n",
      "Epoch 37/100\n",
      "1/1 [==============================] - 0s 4ms/step - loss: 0.3724\n",
      "Epoch 38/100\n",
      "1/1 [==============================] - 0s 4ms/step - loss: 0.3679\n",
      "Epoch 39/100\n",
      "1/1 [==============================] - 0s 4ms/step - loss: 0.3632\n",
      "Epoch 40/100\n",
      "1/1 [==============================] - 0s 4ms/step - loss: 0.3583\n",
      "Epoch 41/100\n",
      "1/1 [==============================] - 0s 3ms/step - loss: 0.3532\n",
      "Epoch 42/100\n",
      "1/1 [==============================] - 0s 4ms/step - loss: 0.3480\n",
      "Epoch 43/100\n",
      "1/1 [==============================] - 0s 4ms/step - loss: 0.3428\n",
      "Epoch 44/100\n",
      "1/1 [==============================] - 0s 4ms/step - loss: 0.3375\n",
      "Epoch 45/100\n",
      "1/1 [==============================] - 0s 5ms/step - loss: 0.3323\n",
      "Epoch 46/100\n",
      "1/1 [==============================] - 0s 4ms/step - loss: 0.3272\n",
      "Epoch 47/100\n",
      "1/1 [==============================] - 0s 4ms/step - loss: 0.3222\n",
      "Epoch 48/100\n",
      "1/1 [==============================] - 0s 5ms/step - loss: 0.3172\n",
      "Epoch 49/100\n",
      "1/1 [==============================] - 0s 4ms/step - loss: 0.3124\n",
      "Epoch 50/100\n",
      "1/1 [==============================] - 0s 4ms/step - loss: 0.3078\n",
      "Epoch 51/100\n",
      "1/1 [==============================] - 0s 4ms/step - loss: 0.3033\n",
      "Epoch 52/100\n",
      "1/1 [==============================] - 0s 4ms/step - loss: 0.2989\n",
      "Epoch 53/100\n",
      "1/1 [==============================] - 0s 5ms/step - loss: 0.2947\n",
      "Epoch 54/100\n",
      "1/1 [==============================] - 0s 4ms/step - loss: 0.2905\n",
      "Epoch 55/100\n",
      "1/1 [==============================] - 0s 4ms/step - loss: 0.2865\n",
      "Epoch 56/100\n",
      "1/1 [==============================] - 0s 4ms/step - loss: 0.2826\n",
      "Epoch 57/100\n",
      "1/1 [==============================] - 0s 3ms/step - loss: 0.2787\n",
      "Epoch 58/100\n",
      "1/1 [==============================] - 0s 5ms/step - loss: 0.2750\n",
      "Epoch 59/100\n",
      "1/1 [==============================] - 0s 4ms/step - loss: 0.2712\n",
      "Epoch 60/100\n",
      "1/1 [==============================] - 0s 4ms/step - loss: 0.2675\n",
      "Epoch 61/100\n",
      "1/1 [==============================] - 0s 4ms/step - loss: 0.2639\n",
      "Epoch 62/100\n",
      "1/1 [==============================] - 0s 5ms/step - loss: 0.2603\n",
      "Epoch 63/100\n",
      "1/1 [==============================] - 0s 5ms/step - loss: 0.2567\n",
      "Epoch 64/100\n",
      "1/1 [==============================] - 0s 4ms/step - loss: 0.2531\n",
      "Epoch 65/100\n",
      "1/1 [==============================] - 0s 6ms/step - loss: 0.2496\n",
      "Epoch 66/100\n",
      "1/1 [==============================] - 0s 4ms/step - loss: 0.2461\n",
      "Epoch 67/100\n",
      "1/1 [==============================] - 0s 5ms/step - loss: 0.2426\n",
      "Epoch 68/100\n",
      "1/1 [==============================] - 0s 3ms/step - loss: 0.2392\n",
      "Epoch 69/100\n",
      "1/1 [==============================] - 0s 5ms/step - loss: 0.2357\n",
      "Epoch 70/100\n",
      "1/1 [==============================] - 0s 5ms/step - loss: 0.2323\n",
      "Epoch 71/100\n",
      "1/1 [==============================] - 0s 4ms/step - loss: 0.2289\n",
      "Epoch 72/100\n",
      "1/1 [==============================] - 0s 4ms/step - loss: 0.2254\n",
      "Epoch 73/100\n",
      "1/1 [==============================] - 0s 4ms/step - loss: 0.2221\n",
      "Epoch 74/100\n",
      "1/1 [==============================] - 0s 4ms/step - loss: 0.2187\n",
      "Epoch 75/100\n",
      "1/1 [==============================] - 0s 5ms/step - loss: 0.2156\n",
      "Epoch 76/100\n",
      "1/1 [==============================] - 0s 5ms/step - loss: 0.2127\n",
      "Epoch 77/100\n",
      "1/1 [==============================] - 0s 5ms/step - loss: 0.2099\n",
      "Epoch 78/100\n",
      "1/1 [==============================] - 0s 6ms/step - loss: 0.2070\n",
      "Epoch 79/100\n",
      "1/1 [==============================] - 0s 4ms/step - loss: 0.2042\n",
      "Epoch 80/100\n",
      "1/1 [==============================] - 0s 4ms/step - loss: 0.2015\n",
      "Epoch 81/100\n",
      "1/1 [==============================] - 0s 3ms/step - loss: 0.1987\n",
      "Epoch 82/100\n",
      "1/1 [==============================] - 0s 4ms/step - loss: 0.1960\n",
      "Epoch 83/100\n",
      "1/1 [==============================] - 0s 5ms/step - loss: 0.1933\n",
      "Epoch 84/100\n",
      "1/1 [==============================] - 0s 5ms/step - loss: 0.1907\n",
      "Epoch 85/100\n",
      "1/1 [==============================] - 0s 5ms/step - loss: 0.1880\n",
      "Epoch 86/100\n",
      "1/1 [==============================] - 0s 4ms/step - loss: 0.1854\n",
      "Epoch 87/100\n",
      "1/1 [==============================] - 0s 4ms/step - loss: 0.1828\n",
      "Epoch 88/100\n",
      "1/1 [==============================] - 0s 6ms/step - loss: 0.1802\n",
      "Epoch 89/100\n",
      "1/1 [==============================] - 0s 3ms/step - loss: 0.1777\n",
      "Epoch 90/100\n",
      "1/1 [==============================] - 0s 5ms/step - loss: 0.1752\n",
      "Epoch 91/100\n",
      "1/1 [==============================] - 0s 4ms/step - loss: 0.1728\n",
      "Epoch 92/100\n",
      "1/1 [==============================] - 0s 4ms/step - loss: 0.1704\n",
      "Epoch 93/100\n",
      "1/1 [==============================] - 0s 4ms/step - loss: 0.1680\n",
      "Epoch 94/100\n",
      "1/1 [==============================] - 0s 4ms/step - loss: 0.1656\n",
      "Epoch 95/100\n",
      "1/1 [==============================] - 0s 3ms/step - loss: 0.1632\n",
      "Epoch 96/100\n",
      "1/1 [==============================] - 0s 5ms/step - loss: 0.1609\n",
      "Epoch 97/100\n",
      "1/1 [==============================] - 0s 4ms/step - loss: 0.1586\n",
      "Epoch 98/100\n",
      "1/1 [==============================] - 0s 3ms/step - loss: 0.1563\n",
      "Epoch 99/100\n",
      "1/1 [==============================] - 0s 4ms/step - loss: 0.1541\n",
      "Epoch 100/100\n",
      "1/1 [==============================] - 0s 3ms/step - loss: 0.1518\n"
     ]
    }
   ],
   "source": [
    "model = keras.models.Sequential([\n",
    "    keras.layers.Flatten(input_shape=[9, 1]),\n",
    "    keras.layers.Dense(23, activation='relu'),\n",
    "    keras.layers.Dense(1, activation=None)\n",
    "    \n",
    "])\n",
    "\n",
    "model.compile(loss=\"mse\", optimizer='Adam')\n",
    "\n",
    "history = model.fit(train_x, train_target, epochs=100)"
   ]
  },
  {
   "cell_type": "markdown",
   "metadata": {},
   "source": [
    "### Predictions"
   ]
  },
  {
   "cell_type": "code",
   "execution_count": 65,
   "metadata": {},
   "outputs": [
    {
     "name": "stdout",
     "output_type": "stream",
     "text": [
      "1/1 [==============================] - 3s 3s/step\n"
     ]
    }
   ],
   "source": [
    "#Predict:\n",
    "y_pred = model.predict(test_x)"
   ]
  },
  {
   "cell_type": "code",
   "execution_count": 66,
   "metadata": {},
   "outputs": [],
   "source": [
    "# Remember, these are standardized values. \n",
    "\n",
    "comparison = pd.DataFrame()\n",
    "\n",
    "comparison['actual'] = scaler.inverse_transform([test_target]).flatten()\n",
    "comparison['predicted'] = scaler.inverse_transform(y_pred).flatten()"
   ]
  },
  {
   "cell_type": "code",
   "execution_count": 67,
   "metadata": {},
   "outputs": [
    {
     "data": {
      "text/html": [
       "<div>\n",
       "<style scoped>\n",
       "    .dataframe tbody tr th:only-of-type {\n",
       "        vertical-align: middle;\n",
       "    }\n",
       "\n",
       "    .dataframe tbody tr th {\n",
       "        vertical-align: top;\n",
       "    }\n",
       "\n",
       "    .dataframe thead th {\n",
       "        text-align: right;\n",
       "    }\n",
       "</style>\n",
       "<table border=\"1\" class=\"dataframe\">\n",
       "  <thead>\n",
       "    <tr style=\"text-align: right;\">\n",
       "      <th></th>\n",
       "      <th>actual</th>\n",
       "      <th>predicted</th>\n",
       "    </tr>\n",
       "  </thead>\n",
       "  <tbody>\n",
       "    <tr>\n",
       "      <th>0</th>\n",
       "      <td>293.899994</td>\n",
       "      <td>311.316528</td>\n",
       "    </tr>\n",
       "    <tr>\n",
       "      <th>1</th>\n",
       "      <td>342.350006</td>\n",
       "      <td>345.464386</td>\n",
       "    </tr>\n",
       "    <tr>\n",
       "      <th>2</th>\n",
       "      <td>325.350006</td>\n",
       "      <td>329.677582</td>\n",
       "    </tr>\n",
       "  </tbody>\n",
       "</table>\n",
       "</div>"
      ],
      "text/plain": [
       "       actual   predicted\n",
       "0  293.899994  311.316528\n",
       "1  342.350006  345.464386\n",
       "2  325.350006  329.677582"
      ]
     },
     "execution_count": 67,
     "metadata": {},
     "output_type": "execute_result"
    }
   ],
   "source": [
    "comparison"
   ]
  },
  {
   "cell_type": "code",
   "execution_count": 68,
   "metadata": {},
   "outputs": [],
   "source": [
    "cs_nn = mean_squared_error(comparison['actual'], comparison['predicted'])"
   ]
  },
  {
   "cell_type": "code",
   "execution_count": 69,
   "metadata": {},
   "outputs": [
    {
     "data": {
      "text/html": [
       "<div>\n",
       "<style scoped>\n",
       "    .dataframe tbody tr th:only-of-type {\n",
       "        vertical-align: middle;\n",
       "    }\n",
       "\n",
       "    .dataframe tbody tr th {\n",
       "        vertical-align: top;\n",
       "    }\n",
       "\n",
       "    .dataframe thead th {\n",
       "        text-align: right;\n",
       "    }\n",
       "</style>\n",
       "<table border=\"1\" class=\"dataframe\">\n",
       "  <thead>\n",
       "    <tr style=\"text-align: right;\">\n",
       "      <th></th>\n",
       "      <th>model</th>\n",
       "      <th>MSE</th>\n",
       "    </tr>\n",
       "  </thead>\n",
       "  <tbody>\n",
       "    <tr>\n",
       "      <th>0</th>\n",
       "      <td>Cross NN</td>\n",
       "      <td>110.587648</td>\n",
       "    </tr>\n",
       "  </tbody>\n",
       "</table>\n",
       "</div>"
      ],
      "text/plain": [
       "      model         MSE\n",
       "0  Cross NN  110.587648"
      ]
     },
     "execution_count": 69,
     "metadata": {},
     "output_type": "execute_result"
    }
   ],
   "source": [
    "performance = pd.concat([performance, pd.DataFrame({'model':\"Cross NN\", 'MSE': cs_nn}, index =[0])])\n",
    "performance"
   ]
  },
  {
   "cell_type": "code",
   "execution_count": 70,
   "metadata": {},
   "outputs": [
    {
     "data": {
      "image/png": "[encoded data removed]",
      "text/plain": [
       "<Figure size 640x480 with 1 Axes>"
      ]
     },
     "metadata": {},
     "output_type": "display_data"
    }
   ],
   "source": [
    "plt.plot(comparison['actual'], label = 'actual')\n",
    "plt.plot(comparison['predicted'], label = 'predicted')\n",
    "\n",
    "plt.legend()\n",
    "\n",
    "plt.show()"
   ]
  },
  {
   "cell_type": "markdown",
   "metadata": {},
   "source": [
    "# Simple RNN\n",
    "\n",
    "Simplest recurrent neural network"
   ]
  },
  {
   "cell_type": "code",
   "execution_count": 71,
   "metadata": {},
   "outputs": [],
   "source": [
    "model = keras.models.Sequential([\n",
    "    keras.layers.SimpleRNN(32, activation='relu', input_shape=[9, 1]),\n",
    "    keras.layers.Dense(1, activation=None)\n",
    "])"
   ]
  },
  {
   "cell_type": "code",
   "execution_count": 72,
   "metadata": {
    "scrolled": true
   },
   "outputs": [
    {
     "name": "stdout",
     "output_type": "stream",
     "text": [
      "Epoch 1/30\n",
      "1/1 [==============================] - 1s 1s/step - loss: 0.9406\n",
      "Epoch 2/30\n",
      "1/1 [==============================] - 0s 5ms/step - loss: 0.8658\n",
      "Epoch 3/30\n",
      "1/1 [==============================] - 0s 5ms/step - loss: 0.7985\n",
      "Epoch 4/30\n",
      "1/1 [==============================] - 0s 9ms/step - loss: 0.7457\n",
      "Epoch 5/30\n",
      "1/1 [==============================] - 0s 6ms/step - loss: 0.7021\n",
      "Epoch 6/30\n",
      "1/1 [==============================] - 0s 6ms/step - loss: 0.6613\n",
      "Epoch 7/30\n",
      "1/1 [==============================] - 0s 8ms/step - loss: 0.6244\n",
      "Epoch 8/30\n",
      "1/1 [==============================] - 0s 7ms/step - loss: 0.5900\n",
      "Epoch 9/30\n",
      "1/1 [==============================] - 0s 6ms/step - loss: 0.5580\n",
      "Epoch 10/30\n",
      "1/1 [==============================] - 0s 6ms/step - loss: 0.5279\n",
      "Epoch 11/30\n",
      "1/1 [==============================] - 0s 8ms/step - loss: 0.4995\n",
      "Epoch 12/30\n",
      "1/1 [==============================] - 0s 6ms/step - loss: 0.4726\n",
      "Epoch 13/30\n",
      "1/1 [==============================] - 0s 6ms/step - loss: 0.4478\n",
      "Epoch 14/30\n",
      "1/1 [==============================] - 0s 5ms/step - loss: 0.4247\n",
      "Epoch 15/30\n",
      "1/1 [==============================] - 0s 5ms/step - loss: 0.4026\n",
      "Epoch 16/30\n",
      "1/1 [==============================] - 0s 7ms/step - loss: 0.3818\n",
      "Epoch 17/30\n",
      "1/1 [==============================] - 0s 6ms/step - loss: 0.3619\n",
      "Epoch 18/30\n",
      "1/1 [==============================] - 0s 8ms/step - loss: 0.3435\n",
      "Epoch 19/30\n",
      "1/1 [==============================] - 0s 4ms/step - loss: 0.3264\n",
      "Epoch 20/30\n",
      "1/1 [==============================] - 0s 5ms/step - loss: 0.3102\n",
      "Epoch 21/30\n",
      "1/1 [==============================] - 0s 7ms/step - loss: 0.2943\n",
      "Epoch 22/30\n",
      "1/1 [==============================] - 0s 4ms/step - loss: 0.2795\n",
      "Epoch 23/30\n",
      "1/1 [==============================] - 0s 6ms/step - loss: 0.2669\n",
      "Epoch 24/30\n",
      "1/1 [==============================] - 0s 6ms/step - loss: 0.2552\n",
      "Epoch 25/30\n",
      "1/1 [==============================] - 0s 5ms/step - loss: 0.2439\n",
      "Epoch 26/30\n",
      "1/1 [==============================] - 0s 5ms/step - loss: 0.2329\n",
      "Epoch 27/30\n",
      "1/1 [==============================] - 0s 7ms/step - loss: 0.2223\n",
      "Epoch 28/30\n",
      "1/1 [==============================] - 0s 4ms/step - loss: 0.2117\n",
      "Epoch 29/30\n",
      "1/1 [==============================] - 0s 5ms/step - loss: 0.2012\n",
      "Epoch 30/30\n",
      "1/1 [==============================] - 0s 5ms/step - loss: 0.1907\n"
     ]
    }
   ],
   "source": [
    "np.random.seed(42)\n",
    "tf.random.set_seed(42)\n",
    "\n",
    "model.compile(loss=\"mse\", optimizer='Adam')\n",
    "\n",
    "history = model.fit(train_x, train_target, epochs=30)"
   ]
  },
  {
   "cell_type": "markdown",
   "metadata": {},
   "source": [
    "### Predictions"
   ]
  },
  {
   "cell_type": "code",
   "execution_count": 73,
   "metadata": {},
   "outputs": [
    {
     "name": "stdout",
     "output_type": "stream",
     "text": [
      "1/1 [==============================] - 0s 233ms/step\n"
     ]
    }
   ],
   "source": [
    "#Predict:\n",
    "y_pred = model.predict(test_x)"
   ]
  },
  {
   "cell_type": "code",
   "execution_count": 74,
   "metadata": {},
   "outputs": [],
   "source": [
    "#Remember, these are standardized values. \n",
    "\n",
    "comparison = pd.DataFrame()\n",
    "\n",
    "comparison['actual'] = scaler.inverse_transform([test_target]).flatten()\n",
    "comparison['predicted'] = scaler.inverse_transform(y_pred).flatten()"
   ]
  },
  {
   "cell_type": "code",
   "execution_count": 75,
   "metadata": {},
   "outputs": [
    {
     "data": {
      "text/html": [
       "<div>\n",
       "<style scoped>\n",
       "    .dataframe tbody tr th:only-of-type {\n",
       "        vertical-align: middle;\n",
       "    }\n",
       "\n",
       "    .dataframe tbody tr th {\n",
       "        vertical-align: top;\n",
       "    }\n",
       "\n",
       "    .dataframe thead th {\n",
       "        text-align: right;\n",
       "    }\n",
       "</style>\n",
       "<table border=\"1\" class=\"dataframe\">\n",
       "  <thead>\n",
       "    <tr style=\"text-align: right;\">\n",
       "      <th></th>\n",
       "      <th>actual</th>\n",
       "      <th>predicted</th>\n",
       "    </tr>\n",
       "  </thead>\n",
       "  <tbody>\n",
       "    <tr>\n",
       "      <th>0</th>\n",
       "      <td>293.899994</td>\n",
       "      <td>319.016876</td>\n",
       "    </tr>\n",
       "    <tr>\n",
       "      <th>1</th>\n",
       "      <td>342.350006</td>\n",
       "      <td>345.069214</td>\n",
       "    </tr>\n",
       "    <tr>\n",
       "      <th>2</th>\n",
       "      <td>325.350006</td>\n",
       "      <td>328.245972</td>\n",
       "    </tr>\n",
       "  </tbody>\n",
       "</table>\n",
       "</div>"
      ],
      "text/plain": [
       "       actual   predicted\n",
       "0  293.899994  319.016876\n",
       "1  342.350006  345.069214\n",
       "2  325.350006  328.245972"
      ]
     },
     "execution_count": 75,
     "metadata": {},
     "output_type": "execute_result"
    }
   ],
   "source": [
    "comparison"
   ]
  },
  {
   "cell_type": "code",
   "execution_count": 76,
   "metadata": {},
   "outputs": [],
   "source": [
    "s_rnn = mean_squared_error(comparison['actual'], comparison['predicted'])"
   ]
  },
  {
   "cell_type": "code",
   "execution_count": 77,
   "metadata": {},
   "outputs": [
    {
     "data": {
      "text/html": [
       "<div>\n",
       "<style scoped>\n",
       "    .dataframe tbody tr th:only-of-type {\n",
       "        vertical-align: middle;\n",
       "    }\n",
       "\n",
       "    .dataframe tbody tr th {\n",
       "        vertical-align: top;\n",
       "    }\n",
       "\n",
       "    .dataframe thead th {\n",
       "        text-align: right;\n",
       "    }\n",
       "</style>\n",
       "<table border=\"1\" class=\"dataframe\">\n",
       "  <thead>\n",
       "    <tr style=\"text-align: right;\">\n",
       "      <th></th>\n",
       "      <th>model</th>\n",
       "      <th>MSE</th>\n",
       "    </tr>\n",
       "  </thead>\n",
       "  <tbody>\n",
       "    <tr>\n",
       "      <th>0</th>\n",
       "      <td>Cross NN</td>\n",
       "      <td>110.587648</td>\n",
       "    </tr>\n",
       "    <tr>\n",
       "      <th>0</th>\n",
       "      <td>Simple RNN</td>\n",
       "      <td>215.546160</td>\n",
       "    </tr>\n",
       "  </tbody>\n",
       "</table>\n",
       "</div>"
      ],
      "text/plain": [
       "        model         MSE\n",
       "0    Cross NN  110.587648\n",
       "0  Simple RNN  215.546160"
      ]
     },
     "execution_count": 77,
     "metadata": {},
     "output_type": "execute_result"
    }
   ],
   "source": [
    "performance = pd.concat([performance, pd.DataFrame({'model':\"Simple RNN\", 'MSE' : s_rnn}, index =[0])])\n",
    "performance"
   ]
  },
  {
   "cell_type": "code",
   "execution_count": 78,
   "metadata": {},
   "outputs": [
    {
     "data": {
      "image/png": "[encoded data removed]",
      "text/plain": [
       "<Figure size 640x480 with 1 Axes>"
      ]
     },
     "metadata": {},
     "output_type": "display_data"
    }
   ],
   "source": [
    "plt.plot(comparison['actual'], label = 'actual')\n",
    "plt.plot(comparison['predicted'], label = 'predicted')\n",
    "\n",
    "plt.legend()\n",
    "\n",
    "plt.show()"
   ]
  },
  {
   "cell_type": "markdown",
   "metadata": {},
   "source": [
    "## Simple RNN with more layers\n",
    "\n",
    "**Be careful: when stacking RNN layers, you have to set \"return_sequences\" to True. This enables the layer to send a \"sequence\" of values to the next layer -- jut like how it uses a sequence of values for training. However, if the output of RNN is sent to a DENSE layer, then a single value should be sent. That's why there is no \"return sequences\" right before DENSE layers.**"
   ]
  },
  {
   "cell_type": "code",
   "execution_count": 79,
   "metadata": {},
   "outputs": [],
   "source": [
    "model = keras.models.Sequential([\n",
    "    keras.layers.SimpleRNN(32, activation='relu', return_sequences=True, input_shape=[9, 1]),\n",
    "    keras.layers.SimpleRNN(32, activation='relu', return_sequences=False),\n",
    "    keras.layers.Dense(1, activation=None)\n",
    "])"
   ]
  },
  {
   "cell_type": "code",
   "execution_count": 80,
   "metadata": {
    "scrolled": true
   },
   "outputs": [
    {
     "name": "stdout",
     "output_type": "stream",
     "text": [
      "Epoch 1/30\n",
      "1/1 [==============================] - 3s 3s/step - loss: 0.7817\n",
      "Epoch 2/30\n",
      "1/1 [==============================] - 0s 13ms/step - loss: 0.6874\n",
      "Epoch 3/30\n",
      "1/1 [==============================] - 0s 8ms/step - loss: 0.5971\n",
      "Epoch 4/30\n",
      "1/1 [==============================] - 0s 11ms/step - loss: 0.5096\n",
      "Epoch 5/30\n",
      "1/1 [==============================] - 0s 17ms/step - loss: 0.4315\n",
      "Epoch 6/30\n",
      "1/1 [==============================] - 0s 16ms/step - loss: 0.3584\n",
      "Epoch 7/30\n",
      "1/1 [==============================] - 0s 10ms/step - loss: 0.2908\n",
      "Epoch 8/30\n",
      "1/1 [==============================] - 0s 13ms/step - loss: 0.2393\n",
      "Epoch 9/30\n",
      "1/1 [==============================] - 0s 20ms/step - loss: 0.2031\n",
      "Epoch 10/30\n",
      "1/1 [==============================] - 0s 24ms/step - loss: 0.1804\n",
      "Epoch 11/30\n",
      "1/1 [==============================] - 0s 16ms/step - loss: 0.1672\n",
      "Epoch 12/30\n",
      "1/1 [==============================] - 0s 19ms/step - loss: 0.1576\n",
      "Epoch 13/30\n",
      "1/1 [==============================] - 0s 14ms/step - loss: 0.1465\n",
      "Epoch 14/30\n",
      "1/1 [==============================] - 0s 18ms/step - loss: 0.1310\n",
      "Epoch 15/30\n",
      "1/1 [==============================] - 0s 15ms/step - loss: 0.1118\n",
      "Epoch 16/30\n",
      "1/1 [==============================] - 0s 17ms/step - loss: 0.0922\n",
      "Epoch 17/30\n",
      "1/1 [==============================] - 0s 20ms/step - loss: 0.0740\n",
      "Epoch 18/30\n",
      "1/1 [==============================] - 0s 14ms/step - loss: 0.0593\n",
      "Epoch 19/30\n",
      "1/1 [==============================] - 0s 17ms/step - loss: 0.0485\n",
      "Epoch 20/30\n",
      "1/1 [==============================] - 0s 13ms/step - loss: 0.0425\n",
      "Epoch 21/30\n",
      "1/1 [==============================] - 0s 16ms/step - loss: 0.0410\n",
      "Epoch 22/30\n",
      "1/1 [==============================] - 0s 16ms/step - loss: 0.0420\n",
      "Epoch 23/30\n",
      "1/1 [==============================] - 0s 16ms/step - loss: 0.0433\n",
      "Epoch 24/30\n",
      "1/1 [==============================] - 0s 19ms/step - loss: 0.0440\n",
      "Epoch 25/30\n",
      "1/1 [==============================] - 0s 14ms/step - loss: 0.0431\n",
      "Epoch 26/30\n",
      "1/1 [==============================] - 0s 16ms/step - loss: 0.0406\n",
      "Epoch 27/30\n",
      "1/1 [==============================] - 0s 13ms/step - loss: 0.0369\n",
      "Epoch 28/30\n",
      "1/1 [==============================] - 0s 15ms/step - loss: 0.0325\n",
      "Epoch 29/30\n",
      "1/1 [==============================] - 0s 15ms/step - loss: 0.0285\n",
      "Epoch 30/30\n",
      "1/1 [==============================] - 0s 17ms/step - loss: 0.0254\n"
     ]
    }
   ],
   "source": [
    "np.random.seed(42)\n",
    "tf.random.set_seed(42)\n",
    "\n",
    "model.compile(loss=\"mse\", optimizer='Adam')\n",
    "\n",
    "history = model.fit(train_x, train_target, epochs=30)"
   ]
  },
  {
   "cell_type": "markdown",
   "metadata": {},
   "source": [
    "### Predictions"
   ]
  },
  {
   "cell_type": "code",
   "execution_count": 81,
   "metadata": {},
   "outputs": [
    {
     "name": "stdout",
     "output_type": "stream",
     "text": [
      "1/1 [==============================] - 1s 506ms/step\n"
     ]
    }
   ],
   "source": [
    "#Predict:\n",
    "y_pred = model.predict(test_x)\n"
   ]
  },
  {
   "cell_type": "code",
   "execution_count": 82,
   "metadata": {},
   "outputs": [],
   "source": [
    "#Remember, these are standardized values. \n",
    "\n",
    "comparison = pd.DataFrame()\n",
    "\n",
    "comparison['actual'] = scaler.inverse_transform([test_target]).flatten()\n",
    "comparison['predicted'] = scaler.inverse_transform(y_pred).flatten()"
   ]
  },
  {
   "cell_type": "code",
   "execution_count": 83,
   "metadata": {},
   "outputs": [
    {
     "data": {
      "text/html": [
       "<div>\n",
       "<style scoped>\n",
       "    .dataframe tbody tr th:only-of-type {\n",
       "        vertical-align: middle;\n",
       "    }\n",
       "\n",
       "    .dataframe tbody tr th {\n",
       "        vertical-align: top;\n",
       "    }\n",
       "\n",
       "    .dataframe thead th {\n",
       "        text-align: right;\n",
       "    }\n",
       "</style>\n",
       "<table border=\"1\" class=\"dataframe\">\n",
       "  <thead>\n",
       "    <tr style=\"text-align: right;\">\n",
       "      <th></th>\n",
       "      <th>actual</th>\n",
       "      <th>predicted</th>\n",
       "    </tr>\n",
       "  </thead>\n",
       "  <tbody>\n",
       "    <tr>\n",
       "      <th>0</th>\n",
       "      <td>293.899994</td>\n",
       "      <td>305.499908</td>\n",
       "    </tr>\n",
       "    <tr>\n",
       "      <th>1</th>\n",
       "      <td>342.350006</td>\n",
       "      <td>345.147491</td>\n",
       "    </tr>\n",
       "    <tr>\n",
       "      <th>2</th>\n",
       "      <td>325.350006</td>\n",
       "      <td>326.310333</td>\n",
       "    </tr>\n",
       "  </tbody>\n",
       "</table>\n",
       "</div>"
      ],
      "text/plain": [
       "       actual   predicted\n",
       "0  293.899994  305.499908\n",
       "1  342.350006  345.147491\n",
       "2  325.350006  326.310333"
      ]
     },
     "execution_count": 83,
     "metadata": {},
     "output_type": "execute_result"
    }
   ],
   "source": [
    "comparison"
   ]
  },
  {
   "cell_type": "code",
   "execution_count": 84,
   "metadata": {},
   "outputs": [],
   "source": [
    "sml_rnn = mean_squared_error(comparison['actual'], comparison['predicted'])"
   ]
  },
  {
   "cell_type": "code",
   "execution_count": 85,
   "metadata": {},
   "outputs": [
    {
     "data": {
      "text/html": [
       "<div>\n",
       "<style scoped>\n",
       "    .dataframe tbody tr th:only-of-type {\n",
       "        vertical-align: middle;\n",
       "    }\n",
       "\n",
       "    .dataframe tbody tr th {\n",
       "        vertical-align: top;\n",
       "    }\n",
       "\n",
       "    .dataframe thead th {\n",
       "        text-align: right;\n",
       "    }\n",
       "</style>\n",
       "<table border=\"1\" class=\"dataframe\">\n",
       "  <thead>\n",
       "    <tr style=\"text-align: right;\">\n",
       "      <th></th>\n",
       "      <th>model</th>\n",
       "      <th>MSE</th>\n",
       "    </tr>\n",
       "  </thead>\n",
       "  <tbody>\n",
       "    <tr>\n",
       "      <th>0</th>\n",
       "      <td>Cross NN</td>\n",
       "      <td>110.587648</td>\n",
       "    </tr>\n",
       "    <tr>\n",
       "      <th>0</th>\n",
       "      <td>Simple RNN</td>\n",
       "      <td>215.546160</td>\n",
       "    </tr>\n",
       "    <tr>\n",
       "      <th>0</th>\n",
       "      <td>Simple RNN more layers</td>\n",
       "      <td>47.768723</td>\n",
       "    </tr>\n",
       "  </tbody>\n",
       "</table>\n",
       "</div>"
      ],
      "text/plain": [
       "                    model         MSE\n",
       "0                Cross NN  110.587648\n",
       "0              Simple RNN  215.546160\n",
       "0  Simple RNN more layers   47.768723"
      ]
     },
     "execution_count": 85,
     "metadata": {},
     "output_type": "execute_result"
    }
   ],
   "source": [
    "performance = pd.concat([performance, pd.DataFrame({'model':\"Simple RNN more layers\", 'MSE' : sml_rnn}, index =[0])])\n",
    "performance"
   ]
  },
  {
   "cell_type": "code",
   "execution_count": 86,
   "metadata": {},
   "outputs": [
    {
     "data": {
      "image/png": "[encoded data removed]",
      "text/plain": [
       "<Figure size 640x480 with 1 Axes>"
      ]
     },
     "metadata": {},
     "output_type": "display_data"
    }
   ],
   "source": [
    "plt.plot(comparison['actual'], label = 'actual')\n",
    "plt.plot(comparison['predicted'], label = 'predicted')\n",
    "\n",
    "plt.legend()\n",
    "\n",
    "plt.show()"
   ]
  },
  {
   "cell_type": "markdown",
   "metadata": {},
   "source": [
    "# LSTM with one layer"
   ]
  },
  {
   "cell_type": "code",
   "execution_count": 87,
   "metadata": {
    "scrolled": true
   },
   "outputs": [],
   "source": [
    "model = keras.models.Sequential([\n",
    "    keras.layers.LSTM(32, activation='relu', input_shape=[9, 1]),\n",
    "    keras.layers.Dense(1, activation=None)\n",
    "])"
   ]
  },
  {
   "cell_type": "code",
   "execution_count": 88,
   "metadata": {
    "scrolled": true
   },
   "outputs": [
    {
     "name": "stdout",
     "output_type": "stream",
     "text": [
      "Epoch 1/30\n",
      "1/1 [==============================] - 2s 2s/step - loss: 1.3864\n",
      "Epoch 2/30\n",
      "1/1 [==============================] - 0s 7ms/step - loss: 1.3514\n",
      "Epoch 3/30\n",
      "1/1 [==============================] - 0s 6ms/step - loss: 1.3172\n",
      "Epoch 4/30\n",
      "1/1 [==============================] - 0s 6ms/step - loss: 1.2842\n",
      "Epoch 5/30\n",
      "1/1 [==============================] - 0s 7ms/step - loss: 1.2521\n",
      "Epoch 6/30\n",
      "1/1 [==============================] - 0s 9ms/step - loss: 1.2208\n",
      "Epoch 7/30\n",
      "1/1 [==============================] - 0s 9ms/step - loss: 1.1903\n",
      "Epoch 8/30\n",
      "1/1 [==============================] - 0s 9ms/step - loss: 1.1607\n",
      "Epoch 9/30\n",
      "1/1 [==============================] - 0s 10ms/step - loss: 1.1319\n",
      "Epoch 10/30\n",
      "1/1 [==============================] - 0s 12ms/step - loss: 1.1038\n",
      "Epoch 11/30\n",
      "1/1 [==============================] - 0s 12ms/step - loss: 1.0765\n",
      "Epoch 12/30\n",
      "1/1 [==============================] - 0s 11ms/step - loss: 1.0499\n",
      "Epoch 13/30\n",
      "1/1 [==============================] - 0s 11ms/step - loss: 1.0240\n",
      "Epoch 14/30\n",
      "1/1 [==============================] - 0s 8ms/step - loss: 0.9988\n",
      "Epoch 15/30\n",
      "1/1 [==============================] - 0s 8ms/step - loss: 0.9741\n",
      "Epoch 16/30\n",
      "1/1 [==============================] - 0s 11ms/step - loss: 0.9499\n",
      "Epoch 17/30\n",
      "1/1 [==============================] - 0s 11ms/step - loss: 0.9261\n",
      "Epoch 18/30\n",
      "1/1 [==============================] - 0s 9ms/step - loss: 0.9030\n",
      "Epoch 19/30\n",
      "1/1 [==============================] - 0s 11ms/step - loss: 0.8805\n",
      "Epoch 20/30\n",
      "1/1 [==============================] - 0s 10ms/step - loss: 0.8585\n",
      "Epoch 21/30\n",
      "1/1 [==============================] - 0s 11ms/step - loss: 0.8368\n",
      "Epoch 22/30\n",
      "1/1 [==============================] - 0s 10ms/step - loss: 0.8153\n",
      "Epoch 23/30\n",
      "1/1 [==============================] - 0s 13ms/step - loss: 0.7940\n",
      "Epoch 24/30\n",
      "1/1 [==============================] - 0s 10ms/step - loss: 0.7729\n",
      "Epoch 25/30\n",
      "1/1 [==============================] - 0s 11ms/step - loss: 0.7519\n",
      "Epoch 26/30\n",
      "1/1 [==============================] - 0s 13ms/step - loss: 0.7310\n",
      "Epoch 27/30\n",
      "1/1 [==============================] - 0s 18ms/step - loss: 0.7103\n",
      "Epoch 28/30\n",
      "1/1 [==============================] - 0s 18ms/step - loss: 0.6898\n",
      "Epoch 29/30\n",
      "1/1 [==============================] - 0s 23ms/step - loss: 0.6695\n",
      "Epoch 30/30\n",
      "1/1 [==============================] - 0s 11ms/step - loss: 0.6494\n"
     ]
    }
   ],
   "source": [
    "np.random.seed(42)\n",
    "tf.random.set_seed(42)\n",
    "\n",
    "model.compile(loss=\"mse\", optimizer='Adam')\n",
    "\n",
    "history = model.fit(train_x, train_target, epochs=30)"
   ]
  },
  {
   "cell_type": "markdown",
   "metadata": {},
   "source": [
    "### Predictions"
   ]
  },
  {
   "cell_type": "code",
   "execution_count": 89,
   "metadata": {},
   "outputs": [
    {
     "name": "stdout",
     "output_type": "stream",
     "text": [
      "1/1 [==============================] - 0s 244ms/step\n"
     ]
    }
   ],
   "source": [
    "#Predict:\n",
    "y_pred = model.predict(test_x)\n"
   ]
  },
  {
   "cell_type": "code",
   "execution_count": 90,
   "metadata": {},
   "outputs": [],
   "source": [
    "#Remember, these are standardized values. \n",
    "\n",
    "comparison = pd.DataFrame()\n",
    "\n",
    "comparison['actual'] = scaler.inverse_transform([test_target]).flatten()\n",
    "comparison['predicted'] = scaler.inverse_transform(y_pred).flatten()"
   ]
  },
  {
   "cell_type": "code",
   "execution_count": 91,
   "metadata": {},
   "outputs": [],
   "source": [
    "lstm_1 = mean_squared_error(comparison['actual'], comparison['predicted'])"
   ]
  },
  {
   "cell_type": "code",
   "execution_count": 92,
   "metadata": {},
   "outputs": [
    {
     "data": {
      "text/html": [
       "<div>\n",
       "<style scoped>\n",
       "    .dataframe tbody tr th:only-of-type {\n",
       "        vertical-align: middle;\n",
       "    }\n",
       "\n",
       "    .dataframe tbody tr th {\n",
       "        vertical-align: top;\n",
       "    }\n",
       "\n",
       "    .dataframe thead th {\n",
       "        text-align: right;\n",
       "    }\n",
       "</style>\n",
       "<table border=\"1\" class=\"dataframe\">\n",
       "  <thead>\n",
       "    <tr style=\"text-align: right;\">\n",
       "      <th></th>\n",
       "      <th>model</th>\n",
       "      <th>MSE</th>\n",
       "    </tr>\n",
       "  </thead>\n",
       "  <tbody>\n",
       "    <tr>\n",
       "      <th>0</th>\n",
       "      <td>Cross NN</td>\n",
       "      <td>110.587648</td>\n",
       "    </tr>\n",
       "    <tr>\n",
       "      <th>0</th>\n",
       "      <td>Simple RNN</td>\n",
       "      <td>215.546160</td>\n",
       "    </tr>\n",
       "    <tr>\n",
       "      <th>0</th>\n",
       "      <td>Simple RNN more layers</td>\n",
       "      <td>47.768723</td>\n",
       "    </tr>\n",
       "    <tr>\n",
       "      <th>0</th>\n",
       "      <td>LSTM</td>\n",
       "      <td>296.970479</td>\n",
       "    </tr>\n",
       "  </tbody>\n",
       "</table>\n",
       "</div>"
      ],
      "text/plain": [
       "                    model         MSE\n",
       "0                Cross NN  110.587648\n",
       "0              Simple RNN  215.546160\n",
       "0  Simple RNN more layers   47.768723\n",
       "0                    LSTM  296.970479"
      ]
     },
     "execution_count": 92,
     "metadata": {},
     "output_type": "execute_result"
    }
   ],
   "source": [
    "performance = pd.concat([performance, pd.DataFrame({'model':\"LSTM\", 'MSE' : lstm_1}, index =[0])])\n",
    "performance"
   ]
  },
  {
   "cell_type": "code",
   "execution_count": 93,
   "metadata": {},
   "outputs": [
    {
     "data": {
      "image/png": "[encoded data removed]",
      "text/plain": [
       "<Figure size 640x480 with 1 Axes>"
      ]
     },
     "metadata": {},
     "output_type": "display_data"
    }
   ],
   "source": [
    "plt.plot(comparison['actual'], label = 'actual')\n",
    "plt.plot(comparison['predicted'], label = 'predicted')\n",
    "\n",
    "plt.legend()\n",
    "\n",
    "plt.show()"
   ]
  },
  {
   "cell_type": "markdown",
   "metadata": {},
   "source": [
    "# LSTM with more layers"
   ]
  },
  {
   "cell_type": "code",
   "execution_count": 94,
   "metadata": {
    "scrolled": true
   },
   "outputs": [],
   "source": [
    "model = keras.models.Sequential([\n",
    "    keras.layers.LSTM(32, activation='tanh', return_sequences=True, input_shape=[9, 1]),\n",
    "    keras.layers.LSTM(32, activation='tanh', return_sequences=False),\n",
    "    keras.layers.Dense(1, activation=None)\n",
    "])"
   ]
  },
  {
   "cell_type": "code",
   "execution_count": 95,
   "metadata": {
    "scrolled": true
   },
   "outputs": [
    {
     "name": "stdout",
     "output_type": "stream",
     "text": [
      "Epoch 1/30\n",
      "1/1 [==============================] - 7s 7s/step - loss: 0.9325\n",
      "Epoch 2/30\n",
      "1/1 [==============================] - 0s 10ms/step - loss: 0.8934\n",
      "Epoch 3/30\n",
      "1/1 [==============================] - 0s 13ms/step - loss: 0.8547\n",
      "Epoch 4/30\n",
      "1/1 [==============================] - 0s 11ms/step - loss: 0.8164\n",
      "Epoch 5/30\n",
      "1/1 [==============================] - 0s 12ms/step - loss: 0.7787\n",
      "Epoch 6/30\n",
      "1/1 [==============================] - 0s 17ms/step - loss: 0.7414\n",
      "Epoch 7/30\n",
      "1/1 [==============================] - 0s 14ms/step - loss: 0.7047\n",
      "Epoch 8/30\n",
      "1/1 [==============================] - 0s 19ms/step - loss: 0.6687\n",
      "Epoch 9/30\n",
      "1/1 [==============================] - 0s 18ms/step - loss: 0.6335\n",
      "Epoch 10/30\n",
      "1/1 [==============================] - 0s 16ms/step - loss: 0.5996\n",
      "Epoch 11/30\n",
      "1/1 [==============================] - 0s 16ms/step - loss: 0.5673\n",
      "Epoch 12/30\n",
      "1/1 [==============================] - 0s 17ms/step - loss: 0.5373\n",
      "Epoch 13/30\n",
      "1/1 [==============================] - 0s 12ms/step - loss: 0.5105\n",
      "Epoch 14/30\n",
      "1/1 [==============================] - 0s 17ms/step - loss: 0.4877\n",
      "Epoch 15/30\n",
      "1/1 [==============================] - 0s 17ms/step - loss: 0.4700\n",
      "Epoch 16/30\n",
      "1/1 [==============================] - 0s 15ms/step - loss: 0.4580\n",
      "Epoch 17/30\n",
      "1/1 [==============================] - 0s 16ms/step - loss: 0.4516\n",
      "Epoch 18/30\n",
      "1/1 [==============================] - 0s 18ms/step - loss: 0.4495\n",
      "Epoch 19/30\n",
      "1/1 [==============================] - 0s 14ms/step - loss: 0.4494\n",
      "Epoch 20/30\n",
      "1/1 [==============================] - 0s 15ms/step - loss: 0.4492\n",
      "Epoch 21/30\n",
      "1/1 [==============================] - 0s 17ms/step - loss: 0.4477\n",
      "Epoch 22/30\n",
      "1/1 [==============================] - 0s 17ms/step - loss: 0.4442\n",
      "Epoch 23/30\n",
      "1/1 [==============================] - 0s 18ms/step - loss: 0.4392\n",
      "Epoch 24/30\n",
      "1/1 [==============================] - 0s 16ms/step - loss: 0.4331\n",
      "Epoch 25/30\n",
      "1/1 [==============================] - 0s 16ms/step - loss: 0.4266\n",
      "Epoch 26/30\n",
      "1/1 [==============================] - 0s 15ms/step - loss: 0.4205\n",
      "Epoch 27/30\n",
      "1/1 [==============================] - 0s 14ms/step - loss: 0.4151\n",
      "Epoch 28/30\n",
      "1/1 [==============================] - 0s 16ms/step - loss: 0.4105\n",
      "Epoch 29/30\n",
      "1/1 [==============================] - 0s 14ms/step - loss: 0.4067\n",
      "Epoch 30/30\n",
      "1/1 [==============================] - 0s 16ms/step - loss: 0.4037\n"
     ]
    }
   ],
   "source": [
    "np.random.seed(42)\n",
    "tf.random.set_seed(42)\n",
    "\n",
    "model.compile(loss=\"mse\", optimizer='Adam')\n",
    "\n",
    "history = model.fit(train_x, train_target, epochs=30)"
   ]
  },
  {
   "cell_type": "markdown",
   "metadata": {},
   "source": [
    "### Predictions"
   ]
  },
  {
   "cell_type": "code",
   "execution_count": 96,
   "metadata": {},
   "outputs": [
    {
     "name": "stdout",
     "output_type": "stream",
     "text": [
      "WARNING:tensorflow:5 out of the last 5 calls to <function Model.make_predict_function.<locals>.predict_function at 0x00000217D400FEE0> triggered tf.function retracing. Tracing is expensive and the excessive number of tracings could be due to (1) creating @tf.function repeatedly in a loop, (2) passing tensors with different shapes, (3) passing Python objects instead of tensors. For (1), please define your @tf.function outside of the loop. For (2), @tf.function has reduce_retracing=True option that can avoid unnecessary retracing. For (3), please refer to https://www.tensorflow.org/guide/function#controlling_retracing and https://www.tensorflow.org/api_docs/python/tf/function for  more details.\n",
      "1/1 [==============================] - 2s 2s/step\n"
     ]
    }
   ],
   "source": [
    "#Predict:\n",
    "y_pred = model.predict(test_x)"
   ]
  },
  {
   "cell_type": "code",
   "execution_count": 97,
   "metadata": {},
   "outputs": [],
   "source": [
    "#Remember, these are standardized values. \n",
    "\n",
    "comparison = pd.DataFrame()\n",
    "\n",
    "comparison['actual'] = scaler.inverse_transform([test_target]).flatten()\n",
    "comparison['predicted'] = scaler.inverse_transform(y_pred).flatten()"
   ]
  },
  {
   "cell_type": "code",
   "execution_count": 98,
   "metadata": {},
   "outputs": [],
   "source": [
    "lstm = mean_squared_error(comparison['actual'], comparison['predicted'])"
   ]
  },
  {
   "cell_type": "code",
   "execution_count": 99,
   "metadata": {},
   "outputs": [
    {
     "data": {
      "text/html": [
       "<div>\n",
       "<style scoped>\n",
       "    .dataframe tbody tr th:only-of-type {\n",
       "        vertical-align: middle;\n",
       "    }\n",
       "\n",
       "    .dataframe tbody tr th {\n",
       "        vertical-align: top;\n",
       "    }\n",
       "\n",
       "    .dataframe thead th {\n",
       "        text-align: right;\n",
       "    }\n",
       "</style>\n",
       "<table border=\"1\" class=\"dataframe\">\n",
       "  <thead>\n",
       "    <tr style=\"text-align: right;\">\n",
       "      <th></th>\n",
       "      <th>model</th>\n",
       "      <th>MSE</th>\n",
       "    </tr>\n",
       "  </thead>\n",
       "  <tbody>\n",
       "    <tr>\n",
       "      <th>0</th>\n",
       "      <td>Cross NN</td>\n",
       "      <td>110.587648</td>\n",
       "    </tr>\n",
       "    <tr>\n",
       "      <th>0</th>\n",
       "      <td>Simple RNN</td>\n",
       "      <td>215.546160</td>\n",
       "    </tr>\n",
       "    <tr>\n",
       "      <th>0</th>\n",
       "      <td>Simple RNN more layers</td>\n",
       "      <td>47.768723</td>\n",
       "    </tr>\n",
       "    <tr>\n",
       "      <th>0</th>\n",
       "      <td>LSTM</td>\n",
       "      <td>296.970479</td>\n",
       "    </tr>\n",
       "    <tr>\n",
       "      <th>0</th>\n",
       "      <td>lstm more layers</td>\n",
       "      <td>144.567168</td>\n",
       "    </tr>\n",
       "  </tbody>\n",
       "</table>\n",
       "</div>"
      ],
      "text/plain": [
       "                    model         MSE\n",
       "0                Cross NN  110.587648\n",
       "0              Simple RNN  215.546160\n",
       "0  Simple RNN more layers   47.768723\n",
       "0                    LSTM  296.970479\n",
       "0        lstm more layers  144.567168"
      ]
     },
     "execution_count": 99,
     "metadata": {},
     "output_type": "execute_result"
    }
   ],
   "source": [
    "performance = pd.concat([performance, pd.DataFrame({'model':\"lstm more layers\", 'MSE' : lstm}, index =[0])])\n",
    "performance"
   ]
  },
  {
   "cell_type": "code",
   "execution_count": 100,
   "metadata": {},
   "outputs": [
    {
     "data": {
      "image/png": "[encoded data removed]",
      "text/plain": [
       "<Figure size 640x480 with 1 Axes>"
      ]
     },
     "metadata": {},
     "output_type": "display_data"
    }
   ],
   "source": [
    "plt.plot(comparison['actual'], label = 'actual')\n",
    "plt.plot(comparison['predicted'], label = 'predicted')\n",
    "\n",
    "plt.legend()\n",
    "\n",
    "plt.show()"
   ]
  },
  {
   "cell_type": "markdown",
   "metadata": {},
   "source": [
    "# GRU (with more layers)"
   ]
  },
  {
   "cell_type": "code",
   "execution_count": 101,
   "metadata": {},
   "outputs": [],
   "source": [
    "model = keras.models.Sequential([\n",
    "    keras.layers.GRU(32, activation='relu', return_sequences=True, input_shape=[9, 1]),\n",
    "    keras.layers.GRU(32, activation='relu', return_sequences=False),\n",
    "    keras.layers.Dense(1, activation=None)\n",
    "])"
   ]
  },
  {
   "cell_type": "code",
   "execution_count": 102,
   "metadata": {
    "scrolled": true
   },
   "outputs": [
    {
     "name": "stdout",
     "output_type": "stream",
     "text": [
      "Epoch 1/30\n",
      "1/1 [==============================] - 5s 5s/step - loss: 1.1793\n",
      "Epoch 2/30\n",
      "1/1 [==============================] - 0s 10ms/step - loss: 1.0901\n",
      "Epoch 3/30\n",
      "1/1 [==============================] - 0s 10ms/step - loss: 1.0328\n",
      "Epoch 4/30\n",
      "1/1 [==============================] - 0s 12ms/step - loss: 0.9900\n",
      "Epoch 5/30\n",
      "1/1 [==============================] - 0s 11ms/step - loss: 0.9533\n",
      "Epoch 6/30\n",
      "1/1 [==============================] - 0s 12ms/step - loss: 0.9233\n",
      "Epoch 7/30\n",
      "1/1 [==============================] - 0s 11ms/step - loss: 0.8955\n",
      "Epoch 8/30\n",
      "1/1 [==============================] - 0s 11ms/step - loss: 0.8648\n",
      "Epoch 9/30\n",
      "1/1 [==============================] - 0s 11ms/step - loss: 0.8272\n",
      "Epoch 10/30\n",
      "1/1 [==============================] - 0s 11ms/step - loss: 0.7873\n",
      "Epoch 11/30\n",
      "1/1 [==============================] - 0s 11ms/step - loss: 0.7505\n",
      "Epoch 12/30\n",
      "1/1 [==============================] - 0s 11ms/step - loss: 0.7151\n",
      "Epoch 13/30\n",
      "1/1 [==============================] - 0s 11ms/step - loss: 0.6808\n",
      "Epoch 14/30\n",
      "1/1 [==============================] - 0s 12ms/step - loss: 0.6485\n",
      "Epoch 15/30\n",
      "1/1 [==============================] - 0s 11ms/step - loss: 0.6183\n",
      "Epoch 16/30\n",
      "1/1 [==============================] - 0s 11ms/step - loss: 0.5892\n",
      "Epoch 17/30\n",
      "1/1 [==============================] - 0s 12ms/step - loss: 0.5612\n",
      "Epoch 18/30\n",
      "1/1 [==============================] - 0s 11ms/step - loss: 0.5343\n",
      "Epoch 19/30\n",
      "1/1 [==============================] - 0s 12ms/step - loss: 0.5087\n",
      "Epoch 20/30\n",
      "1/1 [==============================] - 0s 10ms/step - loss: 0.4850\n",
      "Epoch 21/30\n",
      "1/1 [==============================] - 0s 11ms/step - loss: 0.4632\n",
      "Epoch 22/30\n",
      "1/1 [==============================] - 0s 11ms/step - loss: 0.4436\n",
      "Epoch 23/30\n",
      "1/1 [==============================] - 0s 11ms/step - loss: 0.4261\n",
      "Epoch 24/30\n",
      "1/1 [==============================] - 0s 12ms/step - loss: 0.4104\n",
      "Epoch 25/30\n",
      "1/1 [==============================] - 0s 11ms/step - loss: 0.3964\n",
      "Epoch 26/30\n",
      "1/1 [==============================] - 0s 11ms/step - loss: 0.3833\n",
      "Epoch 27/30\n",
      "1/1 [==============================] - 0s 10ms/step - loss: 0.3705\n",
      "Epoch 28/30\n",
      "1/1 [==============================] - 0s 11ms/step - loss: 0.3582\n",
      "Epoch 29/30\n",
      "1/1 [==============================] - 0s 12ms/step - loss: 0.3464\n",
      "Epoch 30/30\n",
      "1/1 [==============================] - 0s 12ms/step - loss: 0.3353\n"
     ]
    }
   ],
   "source": [
    "np.random.seed(42)\n",
    "tf.random.set_seed(42)\n",
    "\n",
    "model.compile(loss=\"mse\", optimizer='RMSprop')\n",
    "\n",
    "history = model.fit(train_x, train_target, epochs=30)"
   ]
  },
  {
   "cell_type": "markdown",
   "metadata": {},
   "source": [
    "### Predictions"
   ]
  },
  {
   "cell_type": "code",
   "execution_count": 103,
   "metadata": {},
   "outputs": [
    {
     "name": "stdout",
     "output_type": "stream",
     "text": [
      "WARNING:tensorflow:6 out of the last 6 calls to <function Model.make_predict_function.<locals>.predict_function at 0x00000217D09C95E0> triggered tf.function retracing. Tracing is expensive and the excessive number of tracings could be due to (1) creating @tf.function repeatedly in a loop, (2) passing tensors with different shapes, (3) passing Python objects instead of tensors. For (1), please define your @tf.function outside of the loop. For (2), @tf.function has reduce_retracing=True option that can avoid unnecessary retracing. For (3), please refer to https://www.tensorflow.org/guide/function#controlling_retracing and https://www.tensorflow.org/api_docs/python/tf/function for  more details.\n",
      "1/1 [==============================] - 1s 781ms/step\n"
     ]
    }
   ],
   "source": [
    "#Predict:\n",
    "y_pred = model.predict(test_x)"
   ]
  },
  {
   "cell_type": "code",
   "execution_count": 104,
   "metadata": {},
   "outputs": [],
   "source": [
    "#Remember, these are standardized values. \n",
    "\n",
    "comparison = pd.DataFrame()\n",
    "\n",
    "comparison['actual'] = scaler.inverse_transform([test_target]).flatten()\n",
    "comparison['predicted'] = scaler.inverse_transform(y_pred).flatten()"
   ]
  },
  {
   "cell_type": "code",
   "execution_count": 105,
   "metadata": {},
   "outputs": [],
   "source": [
    "gru_more = mean_squared_error(comparison['actual'], comparison['predicted'])"
   ]
  },
  {
   "cell_type": "code",
   "execution_count": 106,
   "metadata": {},
   "outputs": [
    {
     "data": {
      "text/html": [
       "<div>\n",
       "<style scoped>\n",
       "    .dataframe tbody tr th:only-of-type {\n",
       "        vertical-align: middle;\n",
       "    }\n",
       "\n",
       "    .dataframe tbody tr th {\n",
       "        vertical-align: top;\n",
       "    }\n",
       "\n",
       "    .dataframe thead th {\n",
       "        text-align: right;\n",
       "    }\n",
       "</style>\n",
       "<table border=\"1\" class=\"dataframe\">\n",
       "  <thead>\n",
       "    <tr style=\"text-align: right;\">\n",
       "      <th></th>\n",
       "      <th>model</th>\n",
       "      <th>MSE</th>\n",
       "    </tr>\n",
       "  </thead>\n",
       "  <tbody>\n",
       "    <tr>\n",
       "      <th>0</th>\n",
       "      <td>Cross NN</td>\n",
       "      <td>110.587648</td>\n",
       "    </tr>\n",
       "    <tr>\n",
       "      <th>0</th>\n",
       "      <td>Simple RNN</td>\n",
       "      <td>215.546160</td>\n",
       "    </tr>\n",
       "    <tr>\n",
       "      <th>0</th>\n",
       "      <td>Simple RNN more layers</td>\n",
       "      <td>47.768723</td>\n",
       "    </tr>\n",
       "    <tr>\n",
       "      <th>0</th>\n",
       "      <td>LSTM</td>\n",
       "      <td>296.970479</td>\n",
       "    </tr>\n",
       "    <tr>\n",
       "      <th>0</th>\n",
       "      <td>lstm more layers</td>\n",
       "      <td>144.567168</td>\n",
       "    </tr>\n",
       "    <tr>\n",
       "      <th>0</th>\n",
       "      <td>GRU more layers</td>\n",
       "      <td>201.620799</td>\n",
       "    </tr>\n",
       "  </tbody>\n",
       "</table>\n",
       "</div>"
      ],
      "text/plain": [
       "                    model         MSE\n",
       "0                Cross NN  110.587648\n",
       "0              Simple RNN  215.546160\n",
       "0  Simple RNN more layers   47.768723\n",
       "0                    LSTM  296.970479\n",
       "0        lstm more layers  144.567168\n",
       "0         GRU more layers  201.620799"
      ]
     },
     "execution_count": 106,
     "metadata": {},
     "output_type": "execute_result"
    }
   ],
   "source": [
    "performance = pd.concat([performance, pd.DataFrame({'model':\"GRU more layers\", 'MSE' : gru_more}, index =[0])])\n",
    "performance"
   ]
  },
  {
   "cell_type": "code",
   "execution_count": 107,
   "metadata": {},
   "outputs": [
    {
     "data": {
      "image/png": "[encoded data removed]",
      "text/plain": [
       "<Figure size 640x480 with 1 Axes>"
      ]
     },
     "metadata": {},
     "output_type": "display_data"
    }
   ],
   "source": [
    "plt.plot(comparison['actual'], label = 'actual')\n",
    "plt.plot(comparison['predicted'], label = 'predicted')\n",
    "\n",
    "plt.legend()\n",
    "\n",
    "plt.show()"
   ]
  },
  {
   "cell_type": "markdown",
   "metadata": {},
   "source": [
    "# Conv1D"
   ]
  },
  {
   "cell_type": "markdown",
   "metadata": {},
   "source": [
    "### Last Layer: GRU (you can change it to SimpleRNN or LSTM as well)"
   ]
  },
  {
   "cell_type": "code",
   "execution_count": 108,
   "metadata": {
    "scrolled": true
   },
   "outputs": [],
   "source": [
    "model = keras.models.Sequential([\n",
    "    keras.layers.Conv1D(filters=20, kernel_size=3, strides=1, padding=\"valid\", input_shape=[9, 1]),\n",
    "    keras.layers.GRU(32, activation='relu', return_sequences=True),\n",
    "    keras.layers.GRU(32, activation='relu', return_sequences=False),\n",
    "    keras.layers.Dense(1, activation=None)\n",
    "])"
   ]
  },
  {
   "cell_type": "code",
   "execution_count": 109,
   "metadata": {
    "scrolled": true
   },
   "outputs": [
    {
     "name": "stdout",
     "output_type": "stream",
     "text": [
      "Epoch 1/30\n",
      "1/1 [==============================] - 6s 6s/step - loss: 1.1769\n",
      "Epoch 2/30\n",
      "1/1 [==============================] - 0s 107ms/step - loss: 1.1198\n",
      "Epoch 3/30\n",
      "1/1 [==============================] - 0s 114ms/step - loss: 1.0665\n",
      "Epoch 4/30\n",
      "1/1 [==============================] - 0s 82ms/step - loss: 1.0159\n",
      "Epoch 5/30\n",
      "1/1 [==============================] - 0s 80ms/step - loss: 0.9669\n",
      "Epoch 6/30\n",
      "1/1 [==============================] - 0s 86ms/step - loss: 0.9215\n",
      "Epoch 7/30\n",
      "1/1 [==============================] - 0s 115ms/step - loss: 0.8807\n",
      "Epoch 8/30\n",
      "1/1 [==============================] - 0s 85ms/step - loss: 0.8423\n",
      "Epoch 9/30\n",
      "1/1 [==============================] - 0s 54ms/step - loss: 0.8067\n",
      "Epoch 10/30\n",
      "1/1 [==============================] - 0s 141ms/step - loss: 0.7726\n",
      "Epoch 11/30\n",
      "1/1 [==============================] - 0s 80ms/step - loss: 0.7391\n",
      "Epoch 12/30\n",
      "1/1 [==============================] - 0s 77ms/step - loss: 0.7061\n",
      "Epoch 13/30\n",
      "1/1 [==============================] - 0s 111ms/step - loss: 0.6735\n",
      "Epoch 14/30\n",
      "1/1 [==============================] - 0s 85ms/step - loss: 0.6421\n",
      "Epoch 15/30\n",
      "1/1 [==============================] - 0s 55ms/step - loss: 0.6119\n",
      "Epoch 16/30\n",
      "1/1 [==============================] - 0s 62ms/step - loss: 0.5824\n",
      "Epoch 17/30\n",
      "1/1 [==============================] - 0s 86ms/step - loss: 0.5535\n",
      "Epoch 18/30\n",
      "1/1 [==============================] - 0s 82ms/step - loss: 0.5251\n",
      "Epoch 19/30\n",
      "1/1 [==============================] - 0s 54ms/step - loss: 0.4979\n",
      "Epoch 20/30\n",
      "1/1 [==============================] - 0s 81ms/step - loss: 0.4720\n",
      "Epoch 21/30\n",
      "1/1 [==============================] - 0s 62ms/step - loss: 0.4472\n",
      "Epoch 22/30\n",
      "1/1 [==============================] - 0s 91ms/step - loss: 0.4238\n",
      "Epoch 23/30\n",
      "1/1 [==============================] - 0s 86ms/step - loss: 0.4020\n",
      "Epoch 24/30\n",
      "1/1 [==============================] - 0s 55ms/step - loss: 0.3818\n",
      "Epoch 25/30\n",
      "1/1 [==============================] - 0s 52ms/step - loss: 0.3625\n",
      "Epoch 26/30\n",
      "1/1 [==============================] - 0s 52ms/step - loss: 0.3446\n",
      "Epoch 27/30\n",
      "1/1 [==============================] - 0s 62ms/step - loss: 0.3282\n",
      "Epoch 28/30\n",
      "1/1 [==============================] - 0s 51ms/step - loss: 0.3138\n",
      "Epoch 29/30\n",
      "1/1 [==============================] - 0s 89ms/step - loss: 0.3018\n",
      "Epoch 30/30\n",
      "1/1 [==============================] - 0s 56ms/step - loss: 0.2929\n"
     ]
    }
   ],
   "source": [
    "np.random.seed(42)\n",
    "tf.random.set_seed(42)\n",
    "\n",
    "model.compile(loss=\"mse\", optimizer='Adam')\n",
    "\n",
    "history = model.fit(train_x, train_target, epochs=30)"
   ]
  },
  {
   "cell_type": "markdown",
   "metadata": {},
   "source": [
    "### Predictions"
   ]
  },
  {
   "cell_type": "code",
   "execution_count": 110,
   "metadata": {},
   "outputs": [
    {
     "name": "stdout",
     "output_type": "stream",
     "text": [
      "1/1 [==============================] - 0s 445ms/step\n"
     ]
    }
   ],
   "source": [
    "#Predict:\n",
    "y_pred = model.predict(test_x)"
   ]
  },
  {
   "cell_type": "code",
   "execution_count": 111,
   "metadata": {},
   "outputs": [],
   "source": [
    "#Remember, these are standardized values. \n",
    "\n",
    "comparison = pd.DataFrame()\n",
    "\n",
    "comparison['actual'] = scaler.inverse_transform([test_target]).flatten()\n",
    "comparison['predicted'] = scaler.inverse_transform(y_pred).flatten()"
   ]
  },
  {
   "cell_type": "code",
   "execution_count": 112,
   "metadata": {},
   "outputs": [],
   "source": [
    "conv1d = mean_squared_error(comparison['actual'], comparison['predicted'])"
   ]
  },
  {
   "cell_type": "code",
   "execution_count": 113,
   "metadata": {},
   "outputs": [
    {
     "data": {
      "text/html": [
       "<div>\n",
       "<style scoped>\n",
       "    .dataframe tbody tr th:only-of-type {\n",
       "        vertical-align: middle;\n",
       "    }\n",
       "\n",
       "    .dataframe tbody tr th {\n",
       "        vertical-align: top;\n",
       "    }\n",
       "\n",
       "    .dataframe thead th {\n",
       "        text-align: right;\n",
       "    }\n",
       "</style>\n",
       "<table border=\"1\" class=\"dataframe\">\n",
       "  <thead>\n",
       "    <tr style=\"text-align: right;\">\n",
       "      <th></th>\n",
       "      <th>model</th>\n",
       "      <th>MSE</th>\n",
       "    </tr>\n",
       "  </thead>\n",
       "  <tbody>\n",
       "    <tr>\n",
       "      <th>0</th>\n",
       "      <td>Cross NN</td>\n",
       "      <td>110.587648</td>\n",
       "    </tr>\n",
       "    <tr>\n",
       "      <th>0</th>\n",
       "      <td>Simple RNN</td>\n",
       "      <td>215.546160</td>\n",
       "    </tr>\n",
       "    <tr>\n",
       "      <th>0</th>\n",
       "      <td>Simple RNN more layers</td>\n",
       "      <td>47.768723</td>\n",
       "    </tr>\n",
       "    <tr>\n",
       "      <th>0</th>\n",
       "      <td>LSTM</td>\n",
       "      <td>296.970479</td>\n",
       "    </tr>\n",
       "    <tr>\n",
       "      <th>0</th>\n",
       "      <td>lstm more layers</td>\n",
       "      <td>144.567168</td>\n",
       "    </tr>\n",
       "    <tr>\n",
       "      <th>0</th>\n",
       "      <td>GRU more layers</td>\n",
       "      <td>201.620799</td>\n",
       "    </tr>\n",
       "    <tr>\n",
       "      <th>0</th>\n",
       "      <td>conv1D</td>\n",
       "      <td>128.028986</td>\n",
       "    </tr>\n",
       "  </tbody>\n",
       "</table>\n",
       "</div>"
      ],
      "text/plain": [
       "                    model         MSE\n",
       "0                Cross NN  110.587648\n",
       "0              Simple RNN  215.546160\n",
       "0  Simple RNN more layers   47.768723\n",
       "0                    LSTM  296.970479\n",
       "0        lstm more layers  144.567168\n",
       "0         GRU more layers  201.620799\n",
       "0                  conv1D  128.028986"
      ]
     },
     "execution_count": 113,
     "metadata": {},
     "output_type": "execute_result"
    }
   ],
   "source": [
    "performance = pd.concat([performance, pd.DataFrame({'model':\"conv1D\", 'MSE' : conv1d}, index =[0])])\n",
    "performance"
   ]
  },
  {
   "cell_type": "code",
   "execution_count": 114,
   "metadata": {},
   "outputs": [
    {
     "data": {
      "text/html": [
       "<div>\n",
       "<style scoped>\n",
       "    .dataframe tbody tr th:only-of-type {\n",
       "        vertical-align: middle;\n",
       "    }\n",
       "\n",
       "    .dataframe tbody tr th {\n",
       "        vertical-align: top;\n",
       "    }\n",
       "\n",
       "    .dataframe thead th {\n",
       "        text-align: right;\n",
       "    }\n",
       "</style>\n",
       "<table border=\"1\" class=\"dataframe\">\n",
       "  <thead>\n",
       "    <tr style=\"text-align: right;\">\n",
       "      <th></th>\n",
       "      <th>model</th>\n",
       "      <th>MSE</th>\n",
       "    </tr>\n",
       "  </thead>\n",
       "  <tbody>\n",
       "    <tr>\n",
       "      <th>0</th>\n",
       "      <td>Simple RNN more layers</td>\n",
       "      <td>47.768723</td>\n",
       "    </tr>\n",
       "    <tr>\n",
       "      <th>0</th>\n",
       "      <td>Cross NN</td>\n",
       "      <td>110.587648</td>\n",
       "    </tr>\n",
       "    <tr>\n",
       "      <th>0</th>\n",
       "      <td>conv1D</td>\n",
       "      <td>128.028986</td>\n",
       "    </tr>\n",
       "    <tr>\n",
       "      <th>0</th>\n",
       "      <td>lstm more layers</td>\n",
       "      <td>144.567168</td>\n",
       "    </tr>\n",
       "    <tr>\n",
       "      <th>0</th>\n",
       "      <td>GRU more layers</td>\n",
       "      <td>201.620799</td>\n",
       "    </tr>\n",
       "    <tr>\n",
       "      <th>0</th>\n",
       "      <td>Simple RNN</td>\n",
       "      <td>215.546160</td>\n",
       "    </tr>\n",
       "    <tr>\n",
       "      <th>0</th>\n",
       "      <td>LSTM</td>\n",
       "      <td>296.970479</td>\n",
       "    </tr>\n",
       "  </tbody>\n",
       "</table>\n",
       "</div>"
      ],
      "text/plain": [
       "                    model         MSE\n",
       "0  Simple RNN more layers   47.768723\n",
       "0                Cross NN  110.587648\n",
       "0                  conv1D  128.028986\n",
       "0        lstm more layers  144.567168\n",
       "0         GRU more layers  201.620799\n",
       "0              Simple RNN  215.546160\n",
       "0                    LSTM  296.970479"
      ]
     },
     "execution_count": 114,
     "metadata": {},
     "output_type": "execute_result"
    }
   ],
   "source": [
    "performance.sort_values(by='MSE')"
   ]
  },
  {
   "cell_type": "markdown",
   "metadata": {},
   "source": [
    "# Analysis"
   ]
  },
  {
   "cell_type": "markdown",
   "metadata": {},
   "source": [
    "The values shown in the table here represent the mean squared errors obtained by several neural network models on a specific dataset. The accuracy of the model performs better when the MSE value is lower.\n",
    "\n",
    "When we look at the values of the table, we can observe that the Simple RNN with more layers has the lowest MSE value of 47.768723, indicating that it performs the best on this dataset among the models tested and the next best model is the Cross NN, which has an MSE of 110.587648.\n",
    "\n",
    "The conv1D model has an MSE of 128.028986, which is higher than the previous two models. The LSTM model with more layers has an MSE of 144.567168, followed by the GRU with more layers which has an MSE of 201.620799.\n",
    "\n",
    "Finally, the Simple RNN and LSTM models have higher MSE values of 215.546160 and 296.970479. This indicates that they have a relatively poor performance compared to the other models.\n",
    "\n",
    "When we compare all these MSE values we can conclude that Simple RNN with more layers is the best performed model amongst all the other models with low MSE values."
   ]
  },
  {
   "cell_type": "code",
   "execution_count": null,
   "metadata": {},
   "outputs": [],
   "source": []
  }
 ],
 "metadata": {
  "kernelspec": {
   "display_name": "Python 3 (ipykernel)",
   "language": "python",
   "name": "python3"
  },
  "language_info": {
   "codemirror_mode": {
    "name": "ipython",
    "version": 3
   },
   "file_extension": ".py",
   "mimetype": "text/x-python",
   "name": "python",
   "nbconvert_exporter": "python",
   "pygments_lexer": "ipython3",
   "version": "3.9.16"
  },
  "nav_menu": {},
  "toc": {
   "base_numbering": 1,
   "nav_menu": {},
   "number_sections": false,
   "sideBar": true,
   "skip_h1_title": false,
   "title_cell": "Table of Contents",
   "title_sidebar": "Contents",
   "toc_cell": false,
   "toc_position": {},
   "toc_section_display": "block",
   "toc_window_display": false
  },
  "varInspector": {
   "cols": {
    "lenName": 16,
    "lenType": 16,
    "lenVar": 40
   },
   "kernels_config": {
    "python": {
     "delete_cmd_postfix": "",
     "delete_cmd_prefix": "del ",
     "library": "var_list.py",
     "varRefreshCmd": "print(var_dic_list())"
    },
    "r": {
     "delete_cmd_postfix": ") ",
     "delete_cmd_prefix": "rm(",
     "library": "var_list.r",
     "varRefreshCmd": "cat(var_dic_list()) "
    }
   },
   "types_to_exclude": [
    "module",
    "function",
    "builtin_function_or_method",
    "instance",
    "_Feature"
   ],
   "window_display": false
  }
 },
 "nbformat": 4,
 "nbformat_minor": 4
}
